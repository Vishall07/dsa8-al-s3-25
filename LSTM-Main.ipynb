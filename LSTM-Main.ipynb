{
 "cells": [
  {
   "cell_type": "markdown",
   "id": "0ac97abf-5d1c-47e2-abe1-5354f4337da3",
   "metadata": {},
   "source": [
    "## Data Preprocessing - "
   ]
  },
  {
   "cell_type": "code",
   "execution_count": 1,
   "id": "bf0c5885-a467-4179-8ed9-83581b2b197b",
   "metadata": {},
   "outputs": [
    {
     "name": "stdout",
     "output_type": "stream",
     "text": [
      "Libraries imported successfully!\n"
     ]
    }
   ],
   "source": [
    "import pandas as pd\n",
    "import numpy as np\n",
    "import tensorflow as tf\n",
    "from tensorflow.keras.preprocessing.text import Tokenizer\n",
    "from tensorflow.keras.preprocessing.sequence import pad_sequences\n",
    "from tensorflow.keras.utils import to_categorical\n",
    "from tqdm import tqdm\n",
    "import nltk\n",
    "from nltk.corpus import stopwords\n",
    "from nltk.tokenize import word_tokenize\n",
    "from nltk.stem import WordNetLemmatizer\n",
    "import string\n",
    "import pickle\n",
    "import matplotlib.pyplot as plt\n",
    "import seaborn as sns\n",
    "\n",
    "# Download necessary NLTK resources (run once)\n",
    "# nltk.download('punkt', quiet=True)\n",
    "# nltk.download('stopwords', quiet=True)\n",
    "# nltk.download('wordnet', quiet=True)\n",
    "\n",
    "print(\"Libraries imported successfully!\")"
   ]
  },
  {
   "cell_type": "code",
   "execution_count": 2,
   "id": "009bfac1-1af0-4a26-a761-c72dcd4729c0",
   "metadata": {},
   "outputs": [
    {
     "name": "stdout",
     "output_type": "stream",
     "text": [
      "Parameters set:\n",
      "Max words: 20000\n",
      "Max sequence length: 60\n",
      "Embedding dimension: 100\n"
     ]
    }
   ],
   "source": [
    "# Configuration parameters\n",
    "MAX_WORDS = 20000\n",
    "MAX_SEQUENCE_LENGTH = 60\n",
    "EMBEDDING_DIM = 100\n",
    "\n",
    "print(f\"Parameters set:\")\n",
    "print(f\"Max words: {MAX_WORDS}\")\n",
    "print(f\"Max sequence length: {MAX_SEQUENCE_LENGTH}\")\n",
    "print(f\"Embedding dimension: {EMBEDDING_DIM}\")"
   ]
  },
  {
   "cell_type": "code",
   "execution_count": 3,
   "id": "2a76b09a-390f-43ba-9c5a-a5607c5308d3",
   "metadata": {},
   "outputs": [
    {
     "name": "stdout",
     "output_type": "stream",
     "text": [
      "Loading data...\n",
      "Train shape: (10240, 14)\n",
      "Validation shape: (1284, 14)\n",
      "Test shape: (1267, 14)\n"
     ]
    }
   ],
   "source": [
    "# File paths\n",
    "TRAIN_PATH = \"liar_dataset/train.tsv\"\n",
    "VAL_PATH = \"liar_dataset/valid.tsv\"\n",
    "TEST_PATH = \"liar_dataset/test.tsv\"\n",
    "GLOVE_PATH = \"glove.6B.100d.txt\"\n",
    "\n",
    "# Load the dataset from TSV files\n",
    "print(\"Loading data...\")\n",
    "train_df = pd.read_csv(TRAIN_PATH, sep='\\t', header=None)\n",
    "val_df = pd.read_csv(VAL_PATH, sep='\\t', header=None)\n",
    "test_df = pd.read_csv(TEST_PATH, sep='\\t', header=None)\n",
    "\n",
    "print(f\"Train shape: {train_df.shape}\")\n",
    "print(f\"Validation shape: {val_df.shape}\")\n",
    "print(f\"Test shape: {test_df.shape}\")"
   ]
  },
  {
   "cell_type": "code",
   "execution_count": 4,
   "id": "a9205608-1784-459c-bb15-aa5870db0fbc",
   "metadata": {},
   "outputs": [],
   "source": [
    "def replace_labels(label):\n",
    "    \"\"\"Convert multi-class labels to binary classification\"\"\"\n",
    "    label = label.lower().replace(\" \", \"-\")\n",
    "    return \"true\" if label in [\"true\", \"mostly-true\"] else \"false\""
   ]
  },
  {
   "cell_type": "code",
   "execution_count": 5,
   "id": "382732f1-5065-4b5a-83b8-4b878953d1e9",
   "metadata": {},
   "outputs": [
    {
     "name": "stdout",
     "output_type": "stream",
     "text": [
      "Applying label transformation...\n",
      "Train Set Label Distribution:\n",
      "1\n",
      "false    6602\n",
      "true     3638\n",
      "Name: count, dtype: int64\n",
      "Train set total: 10240\n",
      "\n",
      "Validation Set Label Distribution:\n",
      "1\n",
      "false    864\n",
      "true     420\n",
      "Name: count, dtype: int64\n",
      "Validation set total: 1284\n",
      "\n",
      "Test Set Label Distribution:\n",
      "1\n",
      "false    818\n",
      "true     449\n",
      "Name: count, dtype: int64\n",
      "Test set total: 1267\n"
     ]
    }
   ],
   "source": [
    "# Apply label transformation to all dataframes\n",
    "print(\"Applying label transformation...\")\n",
    "train_df[1] = train_df[1].apply(replace_labels)\n",
    "val_df[1] = val_df[1].apply(replace_labels)\n",
    "test_df[1] = test_df[1].apply(replace_labels)\n",
    "\n",
    "# Print class distribution\n",
    "print(\"Train Set Label Distribution:\")\n",
    "print(train_df[1].value_counts())\n",
    "print(f\"Train set total: {len(train_df)}\")\n",
    "\n",
    "print(\"\\nValidation Set Label Distribution:\")\n",
    "print(val_df[1].value_counts())\n",
    "print(f\"Validation set total: {len(val_df)}\")\n",
    "\n",
    "print(\"\\nTest Set Label Distribution:\")\n",
    "print(test_df[1].value_counts())\n",
    "print(f\"Test set total: {len(test_df)}\")"
   ]
  },
  {
   "cell_type": "code",
   "execution_count": 6,
   "id": "912fb0d0-2eec-4902-8147-a10d5117e4e9",
   "metadata": {},
   "outputs": [],
   "source": [
    "def combine_text(df):\n",
    "    \"\"\"Concatenate statement with relevant metadata fields\"\"\"\n",
    "    df = df.fillna('')\n",
    "    combined = (\n",
    "        df[2].astype(str) + \" \" +  # statement\n",
    "        df[3].astype(str) + \" \" +  # subject(s)\n",
    "        df[4].astype(str) + \" \" +  # speaker\n",
    "        df[5].astype(str) + \" \" +  # speaker's job title\n",
    "        df[6].astype(str) + \" \" +  # state info\n",
    "        df[7].astype(str) + \" \" +  # party affiliation\n",
    "        df[13].astype(str)         # context (venue/location)\n",
    "    )\n",
    "    return combined.tolist()"
   ]
  },
  {
   "cell_type": "code",
   "execution_count": 7,
   "id": "f1d466cc-d294-41ef-9606-d799c9496441",
   "metadata": {},
   "outputs": [],
   "source": [
    "def preprocess_text(text):\n",
    "    \"\"\"Preprocess individual text\"\"\"\n",
    "    # Tokenization\n",
    "    tokens = word_tokenize(text)\n",
    "    \n",
    "    # Lowercasing\n",
    "    tokens = [word.lower() for word in tokens]\n",
    "    \n",
    "    # Remove punctuation\n",
    "    tokens = [word for word in tokens if word not in string.punctuation]\n",
    "    \n",
    "    # Remove stop words\n",
    "    stop_words = set(stopwords.words('english'))\n",
    "    tokens = [word for word in tokens if word not in stop_words]\n",
    "    \n",
    "    # Lemmatization\n",
    "    lemmatizer = WordNetLemmatizer()\n",
    "    tokens = [lemmatizer.lemmatize(word) for word in tokens]\n",
    "    \n",
    "    # Join tokens back into a single string\n",
    "    cleaned_text = ' '.join(tokens)\n",
    "    \n",
    "    return cleaned_text"
   ]
  },
  {
   "cell_type": "code",
   "execution_count": 8,
   "id": "90607891-1c67-4ddb-ba47-6bf567f27bd9",
   "metadata": {},
   "outputs": [
    {
     "name": "stdout",
     "output_type": "stream",
     "text": [
      "Creating combined text inputs...\n",
      "Combined 10240 training statements\n",
      "Combined 1284 validation statements\n",
      "Combined 1267 test statements\n",
      "Preprocessing text...\n"
     ]
    },
    {
     "name": "stderr",
     "output_type": "stream",
     "text": [
      "Training Statements: 100%|██████████████| 10240/10240 [00:06<00:00, 1515.57it/s]\n",
      "Validation Statements: 100%|██████████████| 1284/1284 [00:00<00:00, 2522.81it/s]\n",
      "Test Statements: 100%|████████████████████| 1267/1267 [00:00<00:00, 2475.30it/s]\n"
     ]
    }
   ],
   "source": [
    "# Create combined text inputs for all datasets\n",
    "print(\"Creating combined text inputs...\")\n",
    "train_statements = combine_text(train_df)\n",
    "val_statements = combine_text(val_df)\n",
    "test_statements = combine_text(test_df)\n",
    "\n",
    "print(f\"Combined {len(train_statements)} training statements\")\n",
    "print(f\"Combined {len(val_statements)} validation statements\")\n",
    "print(f\"Combined {len(test_statements)} test statements\")\n",
    "\n",
    "# Apply preprocessing to all statements\n",
    "print(\"Preprocessing text...\")\n",
    "train_statements_processed = [preprocess_text(statement) for statement in tqdm(train_statements, desc=\"Training Statements\")]\n",
    "val_statements_processed = [preprocess_text(statement) for statement in tqdm(val_statements, desc=\"Validation Statements\")]\n",
    "test_statements_processed = [preprocess_text(statement) for statement in tqdm(test_statements, desc=\"Test Statements\")]"
   ]
  },
  {
   "cell_type": "code",
   "execution_count": 9,
   "id": "a67d6fb1-2453-4645-8b7b-38bb88b70408",
   "metadata": {},
   "outputs": [
    {
     "name": "stdout",
     "output_type": "stream",
     "text": [
      "Preparing labels...\n",
      "\n",
      "Train label distribution: [6602 3638]\n",
      "Validation label distribution: [864 420]\n",
      "Test label distribution: [818 449]\n"
     ]
    }
   ],
   "source": [
    "def map_labels(label_list):\n",
    "    \"\"\"Map string labels to integers\"\"\"\n",
    "    label_map = {\"false\": 0, \"true\": 1}\n",
    "    mapped = []\n",
    "    for label in label_list:\n",
    "        label = label.lower().replace(\" \", \"-\")\n",
    "        mapped.append(label_map.get(label, 0))\n",
    "    return np.array(mapped)\n",
    "\n",
    "# Prepare labels\n",
    "print(\"Preparing labels...\")\n",
    "train_labels = map_labels(train_df[1].tolist())\n",
    "val_labels = map_labels(val_df[1].tolist())\n",
    "test_labels = map_labels(test_df[1].tolist())\n",
    "\n",
    "# Show label distribution\n",
    "print(f\"\\nTrain label distribution: {np.bincount(train_labels)}\")\n",
    "print(f\"Validation label distribution: {np.bincount(val_labels)}\")\n",
    "print(f\"Test label distribution: {np.bincount(test_labels)}\")"
   ]
  },
  {
   "cell_type": "code",
   "execution_count": 10,
   "id": "68d6197e-c030-43b4-b8c7-ab4d0adc3c78",
   "metadata": {},
   "outputs": [
    {
     "name": "stdout",
     "output_type": "stream",
     "text": [
      "Setting up tokenizer...\n",
      "Tokenizer vocabulary size: 14785\n",
      "Max words used: 20000\n"
     ]
    }
   ],
   "source": [
    "# Initialize tokenizer\n",
    "print(\"Setting up tokenizer...\")\n",
    "tokenizer = Tokenizer(num_words=MAX_WORDS)\n",
    "\n",
    "# Fit tokenizer on all preprocessed statements\n",
    "all_statements = train_statements_processed + val_statements_processed + test_statements_processed\n",
    "tokenizer.fit_on_texts(all_statements)\n",
    "\n",
    "print(f\"Tokenizer vocabulary size: {len(tokenizer.word_index)}\")\n",
    "print(f\"Max words used: {MAX_WORDS}\")"
   ]
  },
  {
   "cell_type": "code",
   "execution_count": 11,
   "id": "70faaef6-50c6-4cf5-ac00-7aa141b5928d",
   "metadata": {},
   "outputs": [
    {
     "name": "stdout",
     "output_type": "stream",
     "text": [
      "Converting statements to sequences...\n"
     ]
    },
    {
     "name": "stderr",
     "output_type": "stream",
     "text": [
      "Training Sequences: 100%|██████████████| 10240/10240 [00:00<00:00, 57106.18it/s]\n",
      "Validation Sequences: 100%|██████████████| 1284/1284 [00:00<00:00, 60969.38it/s]\n",
      "Test Sequences: 100%|████████████████████| 1267/1267 [00:00<00:00, 60276.11it/s]\n"
     ]
    },
    {
     "name": "stdout",
     "output_type": "stream",
     "text": [
      "Sequence conversion completed!\n",
      "\n",
      "Sequence length statistics:\n",
      "  Mean length: 23.66\n",
      "  Max length: 433\n",
      "  Min length: 9\n",
      "  95th percentile: 34.00\n"
     ]
    },
    {
     "data": {
      "image/png": "[encoded data removed]",
      "text/plain": [
       "<Figure size 1000x600 with 1 Axes>"
      ]
     },
     "metadata": {},
     "output_type": "display_data"
    }
   ],
   "source": [
    "# Convert statements to sequences\n",
    "print(\"Converting statements to sequences...\")\n",
    "train_sequences = [tokenizer.texts_to_sequences([text])[0] for text in tqdm(train_statements_processed, desc=\"Training Sequences\")]\n",
    "val_sequences = [tokenizer.texts_to_sequences([text])[0] for text in tqdm(val_statements_processed, desc=\"Validation Sequences\")]\n",
    "test_sequences = [tokenizer.texts_to_sequences([text])[0] for text in tqdm(test_statements_processed, desc=\"Test Sequences\")]\n",
    "\n",
    "print(\"Sequence conversion completed!\")\n",
    "\n",
    "# Show sequence statistics\n",
    "train_lengths = [len(seq) for seq in train_sequences]\n",
    "print(f\"\\nSequence length statistics:\")\n",
    "print(f\"  Mean length: {np.mean(train_lengths):.2f}\")\n",
    "print(f\"  Max length: {np.max(train_lengths)}\")\n",
    "print(f\"  Min length: {np.min(train_lengths)}\")\n",
    "print(f\"  95th percentile: {np.percentile(train_lengths, 95):.2f}\")\n",
    "\n",
    "# Plot sequence length distribution\n",
    "plt.figure(figsize=(10, 6))\n",
    "plt.hist(train_lengths, bins=50, alpha=0.7, edgecolor='black')\n",
    "plt.axvline(MAX_SEQUENCE_LENGTH, color='red', linestyle='--', label=f'Max length: {MAX_SEQUENCE_LENGTH}')\n",
    "plt.xlabel('Sequence Length')\n",
    "plt.ylabel('Frequency')\n",
    "plt.title('Distribution of Sequence Lengths')\n",
    "plt.legend()\n",
    "plt.show()"
   ]
  },
  {
   "cell_type": "code",
   "execution_count": 12,
   "id": "d2fdcc6a-b19c-46d9-964d-0c3382e574ad",
   "metadata": {},
   "outputs": [
    {
     "name": "stdout",
     "output_type": "stream",
     "text": [
      "Padding sequences...\n",
      "Padded data shapes:\n",
      "  Training: (10240, 60)\n",
      "  Validation: (1284, 60)\n",
      "  Test: (1267, 60)\n",
      "\n",
      "Sample padded sequence (first 20 elements):\n",
      "[   4 6466  895  211  249  206  457 6467  100 1956  100 6468 8547    2\n",
      "   34   15    1  376    0    0]\n"
     ]
    }
   ],
   "source": [
    "# Pad sequences to the same length\n",
    "print(\"Padding sequences...\")\n",
    "train_data_padded = pad_sequences(train_sequences, maxlen=MAX_SEQUENCE_LENGTH, padding=\"post\", truncating=\"post\")\n",
    "val_data_padded = pad_sequences(val_sequences, maxlen=MAX_SEQUENCE_LENGTH, padding=\"post\", truncating=\"post\")\n",
    "test_data_padded = pad_sequences(test_sequences, maxlen=MAX_SEQUENCE_LENGTH, padding=\"post\", truncating=\"post\")\n",
    "\n",
    "print(f\"Padded data shapes:\")\n",
    "print(f\"  Training: {train_data_padded.shape}\")\n",
    "print(f\"  Validation: {val_data_padded.shape}\")\n",
    "print(f\"  Test: {test_data_padded.shape}\")\n",
    "\n",
    "# Show sample padded sequence\n",
    "print(f\"\\nSample padded sequence (first 20 elements):\")\n",
    "print(train_data_padded[0][:20])"
   ]
  },
  {
   "cell_type": "code",
   "execution_count": 13,
   "id": "4668a789-a774-4869-8031-ec6ef5c0a06a",
   "metadata": {},
   "outputs": [
    {
     "name": "stdout",
     "output_type": "stream",
     "text": [
      "Loading GloVe embeddings...\n",
      "Total GloVe vectors: 400000\n"
     ]
    },
    {
     "name": "stderr",
     "output_type": "stream",
     "text": [
      "Reading GloVe File: 100%|████████████| 400000/400000 [00:07<00:00, 57128.80it/s]"
     ]
    },
    {
     "name": "stdout",
     "output_type": "stream",
     "text": [
      "Loaded 400000 word vectors\n"
     ]
    },
    {
     "name": "stderr",
     "output_type": "stream",
     "text": [
      "\n"
     ]
    }
   ],
   "source": [
    "# Load GloVe embeddings\n",
    "print(\"Loading GloVe embeddings...\")\n",
    "embeddings_index = {}\n",
    "\n",
    "try:\n",
    "    with open(GLOVE_PATH, encoding='utf8') as f:\n",
    "        # Count total lines for progress bar\n",
    "        total_lines = sum(1 for _ in open(GLOVE_PATH, encoding='utf8'))\n",
    "        print(f\"Total GloVe vectors: {total_lines}\")\n",
    "        \n",
    "        # Read embeddings\n",
    "        for line in tqdm(f, total=total_lines, desc=\"Reading GloVe File\"):\n",
    "            values = line.split()\n",
    "            word = values[0]\n",
    "            coefs = np.asarray(values[1:], dtype='float32')\n",
    "            embeddings_index[word] = coefs\n",
    "            \n",
    "    print(f\"Loaded {len(embeddings_index)} word vectors\")\n",
    "    \n",
    "except FileNotFoundError:\n",
    "    print(f\"GloVe file not found at {GLOVE_PATH}\")\n",
    "    print(\"You can download it from: https://nlp.stanford.edu/projects/glove/\")\n",
    "    # Create random embeddings as fallback\n",
    "    print(\"Creating random embeddings as fallback...\")\n",
    "    embeddings_index = {}"
   ]
  },
  {
   "cell_type": "code",
   "execution_count": 14,
   "id": "3784daa4-907d-4fa9-b05d-bc1e38ab7254",
   "metadata": {},
   "outputs": [
    {
     "name": "stdout",
     "output_type": "stream",
     "text": [
      "Creating embedding matrix...\n",
      "Embedding matrix shape: (14786, 100)\n",
      "Words found in GloVe: 13647\n",
      "Words not found in GloVe: 1138\n",
      "Coverage: 92.30%\n"
     ]
    }
   ],
   "source": [
    "# Create embedding matrix\n",
    "print(\"Creating embedding matrix...\")\n",
    "word_index = tokenizer.word_index\n",
    "num_words = min(MAX_WORDS, len(word_index) + 1)\n",
    "embedding_matrix = np.zeros((num_words, EMBEDDING_DIM))\n",
    "\n",
    "# Fill embedding matrix\n",
    "words_found = 0\n",
    "words_not_found = 0\n",
    "\n",
    "for word, i in word_index.items():\n",
    "    if i < MAX_WORDS:\n",
    "        embedding_vector = embeddings_index.get(word)\n",
    "        if embedding_vector is not None:\n",
    "            embedding_matrix[i] = embedding_vector\n",
    "            words_found += 1\n",
    "        else:\n",
    "            words_not_found += 1\n",
    "\n",
    "print(f\"Embedding matrix shape: {embedding_matrix.shape}\")\n",
    "print(f\"Words found in GloVe: {words_found}\")\n",
    "print(f\"Words not found in GloVe: {words_not_found}\")\n",
    "print(f\"Coverage: {words_found / (words_found + words_not_found) * 100:.2f}%\")"
   ]
  },
  {
   "cell_type": "code",
   "execution_count": 15,
   "id": "b65c223d-e2f9-44dd-b5fe-b9c3b4a2eba2",
   "metadata": {},
   "outputs": [
    {
     "name": "stdout",
     "output_type": "stream",
     "text": [
      "=== DATA PROCESSING SUMMARY ===\n",
      "Training samples: 10240\n",
      "Validation samples: 1284\n",
      "Test samples: 1267\n",
      "Vocabulary size: 14786\n",
      "Sequence length: 60\n",
      "Embedding dimension: 100\n"
     ]
    },
    {
     "data": {
      "image/png": "[encoded data removed]",
      "text/plain": [
       "<Figure size 1500x500 with 3 Axes>"
      ]
     },
     "metadata": {},
     "output_type": "display_data"
    },
    {
     "name": "stdout",
     "output_type": "stream",
     "text": [
      "Train set - False: 64.5%, True: 35.5%\n",
      "Val set - False: 67.3%, True: 32.7%\n",
      "Test set - False: 64.6%, True: 35.4%\n"
     ]
    }
   ],
   "source": [
    "# Create summary of processed data\n",
    "print(\"=== DATA PROCESSING SUMMARY ===\")\n",
    "print(f\"Training samples: {len(train_data_padded)}\")\n",
    "print(f\"Validation samples: {len(val_data_padded)}\")\n",
    "print(f\"Test samples: {len(test_data_padded)}\")\n",
    "print(f\"Vocabulary size: {num_words}\")\n",
    "print(f\"Sequence length: {MAX_SEQUENCE_LENGTH}\")\n",
    "print(f\"Embedding dimension: {EMBEDDING_DIM}\")\n",
    "\n",
    "# Visualize class distribution\n",
    "fig, axes = plt.subplots(1, 3, figsize=(15, 5))\n",
    "\n",
    "# Training set\n",
    "train_counts = np.bincount(train_labels)\n",
    "axes[0].bar(['False', 'True'], train_counts, color=['red', 'green'], alpha=0.7)\n",
    "axes[0].set_title('Training Set')\n",
    "axes[0].set_ylabel('Count')\n",
    "\n",
    "# Validation set\n",
    "val_counts = np.bincount(val_labels)\n",
    "axes[1].bar(['False', 'True'], val_counts, color=['red', 'green'], alpha=0.7)\n",
    "axes[1].set_title('Validation Set')\n",
    "\n",
    "# Test set\n",
    "test_counts = np.bincount(test_labels)\n",
    "axes[2].bar(['False', 'True'], test_counts, color=['red', 'green'], alpha=0.7)\n",
    "axes[2].set_title('Test Set')\n",
    "\n",
    "plt.tight_layout()\n",
    "plt.show()\n",
    "\n",
    "# Print class balance\n",
    "for name, labels in [('Train', train_labels), ('Val', val_labels), ('Test', test_labels)]:\n",
    "    false_pct = (labels == 0).mean() * 100\n",
    "    true_pct = (labels == 1).mean() * 100\n",
    "    print(f\"{name} set - False: {false_pct:.1f}%, True: {true_pct:.1f}%\")"
   ]
  },
  {
   "cell_type": "code",
   "execution_count": 16,
   "id": "711c91e4-469d-4bdc-ae9c-2af47e880bad",
   "metadata": {},
   "outputs": [
    {
     "name": "stdout",
     "output_type": "stream",
     "text": [
      "Saving preprocessed data...\n",
      "Preprocessed data saved to 'preprocessed_data.pkl'\n",
      "✅ Data preprocessing completed successfully!\n",
      "You can now use this data to train your LSTM model.\n"
     ]
    }
   ],
   "source": [
    "# Save all preprocessed data and objects\n",
    "print(\"Saving preprocessed data...\")\n",
    "\n",
    "# Create data dictionary\n",
    "preprocessed_data = {\n",
    "    'train_data': train_data_padded,\n",
    "    'val_data': val_data_padded,\n",
    "    'test_data': test_data_padded,\n",
    "    'train_labels': train_labels,\n",
    "    'val_labels': val_labels,\n",
    "    'test_labels': test_labels,\n",
    "    'embedding_matrix': embedding_matrix,\n",
    "    'num_words': num_words,\n",
    "    'embedding_dim': EMBEDDING_DIM,\n",
    "    'max_sequence_length': MAX_SEQUENCE_LENGTH,\n",
    "    'tokenizer': tokenizer\n",
    "}\n",
    "\n",
    "# Save to pickle file\n",
    "with open('preprocessed_data.pkl', 'wb') as f:\n",
    "    pickle.dump(preprocessed_data, f)\n",
    "\n",
    "print(\"Preprocessed data saved to 'preprocessed_data.pkl'\")\n",
    "print(\"✅ Data preprocessing completed successfully!\")\n",
    "print(\"You can now use this data to train your LSTM model.\")"
   ]
  },
  {
   "cell_type": "markdown",
   "id": "6e5e719d-934f-4527-b3a8-13dd9f752dea",
   "metadata": {},
   "source": [
    "## LSTM Model Training - "
   ]
  },
  {
   "cell_type": "code",
   "execution_count": 17,
   "id": "0cfb720b-3984-4e69-b4b3-42b88b3322b3",
   "metadata": {},
   "outputs": [
    {
     "name": "stdout",
     "output_type": "stream",
     "text": [
      "TensorFlow version: 2.19.0\n",
      "Libraries imported successfully!\n"
     ]
    }
   ],
   "source": [
    "import tensorflow as tf\n",
    "from tensorflow.keras.models import Sequential\n",
    "from tensorflow.keras.layers import Embedding, LSTM, Dense, GlobalMaxPool1D, Dropout, Bidirectional\n",
    "import numpy as np\n",
    "import matplotlib.pyplot as plt\n",
    "import seaborn as sns\n",
    "from sklearn.metrics import confusion_matrix\n",
    "import pickle\n",
    "from sklearn.utils.class_weight import compute_class_weight\n",
    "\n",
    "from tensorflow.keras.optimizers import Adam\n",
    "from tensorflow.keras.callbacks import EarlyStopping, ReduceLROnPlateau\n",
    "from tensorflow.keras.regularizers import l2\n",
    "\n",
    "print(f\"TensorFlow version: {tf.__version__}\")\n",
    "print(\"Libraries imported successfully!\")"
   ]
  },
  {
   "cell_type": "code",
   "execution_count": 18,
   "id": "d68b70fd-93c6-498e-88d6-be8c2c9d835e",
   "metadata": {},
   "outputs": [
    {
     "name": "stdout",
     "output_type": "stream",
     "text": [
      "Model parameters set:\n",
      "LSTM units: 256\n",
      "Dense layer 1 units: 64\n",
      "Dense layer 2 units: 64\n",
      "Dropout rate: 0.5\n",
      "Batch size: 256\n",
      "Epochs: 10\n",
      "Class weights: {0: 1.0, 1: 1.6}\n"
     ]
    }
   ],
   "source": [
    "# Model architecture parameters\n",
    "LSTM_UNITS = 256\n",
    "DENSE_UNITS_1 = 64\n",
    "DENSE_UNITS_2 = 64\n",
    "DROPOUT_RATE = 0.5\n",
    "L2_REG = 0.01\n",
    "\n",
    "# Training parameters\n",
    "BATCH_SIZE = 256\n",
    "EPOCHS = 10\n",
    "CLASS_WEIGHT_DICT = {0: 1.0, 1: 1.6}\n",
    "\n",
    "# Model save path\n",
    "MODEL_SAVE_PATH = 'lstm_model.keras'\n",
    "\n",
    "print(\"Model parameters set:\")\n",
    "print(f\"LSTM units: {LSTM_UNITS}\")\n",
    "print(f\"Dense layer 1 units: {DENSE_UNITS_1}\")\n",
    "print(f\"Dense layer 2 units: {DENSE_UNITS_2}\")\n",
    "print(f\"Dropout rate: {DROPOUT_RATE}\")\n",
    "print(f\"Batch size: {BATCH_SIZE}\")\n",
    "print(f\"Epochs: {EPOCHS}\")\n",
    "print(f\"Class weights: {CLASS_WEIGHT_DICT}\")"
   ]
  },
  {
   "cell_type": "code",
   "execution_count": 19,
   "id": "bb99d067-dc93-495b-9cc0-90e42ec2b5b2",
   "metadata": {},
   "outputs": [
    {
     "name": "stdout",
     "output_type": "stream",
     "text": [
      "Data variables prepared:\n",
      "Train data shape: (10240, 60)\n",
      "Val data shape: (1284, 60)\n",
      "Test data shape: (1267, 60)\n",
      "Embedding matrix shape: (14786, 100)\n",
      "Vocabulary size: 14786\n",
      "Embedding dimension: 100\n",
      "Max sequence length: 60\n"
     ]
    }
   ],
   "source": [
    "# Use the preprocessed data from previous cells\n",
    "# (No need to load from pickle since variables are already in memory)\n",
    "train_data = train_data_padded\n",
    "val_data = val_data_padded\n",
    "test_data = test_data_padded\n",
    "# train_labels, val_labels, test_labels are already available\n",
    "# embedding_matrix, num_words are already available\n",
    "embedding_dim = EMBEDDING_DIM\n",
    "max_sequence_length = MAX_SEQUENCE_LENGTH\n",
    "\n",
    "print(\"Data variables prepared:\")\n",
    "print(f\"Train data shape: {train_data.shape}\")\n",
    "print(f\"Val data shape: {val_data.shape}\")\n",
    "print(f\"Test data shape: {test_data.shape}\")\n",
    "print(f\"Embedding matrix shape: {embedding_matrix.shape}\")\n",
    "print(f\"Vocabulary size: {num_words}\")\n",
    "print(f\"Embedding dimension: {embedding_dim}\")\n",
    "print(f\"Max sequence length: {max_sequence_length}\")"
   ]
  },
  {
   "cell_type": "code",
   "execution_count": 20,
   "id": "1e6ddf17-77f5-4d63-ac4b-0665c1149bfa",
   "metadata": {},
   "outputs": [
    {
     "name": "stdout",
     "output_type": "stream",
     "text": [
      "Building LSTM model...\n",
      "Model architecture built!\n",
      "Total parameters: 1,864,841\n"
     ]
    },
    {
     "name": "stderr",
     "output_type": "stream",
     "text": [
      "/opt/anaconda3/envs/ml/lib/python3.9/site-packages/keras/src/layers/layer.py:965: UserWarning: Layer 'global_max_pooling1d' (of type GlobalMaxPooling1D) was passed an input with a mask attached to it. However, this layer does not support masking and will therefore destroy the mask information. Downstream layers will not see the mask.\n",
      "  warnings.warn(\n"
     ]
    }
   ],
   "source": [
    "# Build LSTM model architecture\n",
    "print(\"Building LSTM model...\")\n",
    "\n",
    "model = Sequential()\n",
    "model.add(Embedding(num_words, embedding_dim, \n",
    "                   weights=[embedding_matrix], trainable=False, mask_zero=True))\n",
    "model.add(LSTM(LSTM_UNITS, return_sequences=True))\n",
    "model.add(GlobalMaxPool1D())\n",
    "model.add(Dropout(DROPOUT_RATE))\n",
    "model.add(Dense(DENSE_UNITS_1, activation=\"tanh\", kernel_regularizer=l2(L2_REG)))\n",
    "model.add(Dropout(DROPOUT_RATE))\n",
    "model.add(Dense(DENSE_UNITS_2, activation=\"tanh\", kernel_regularizer=l2(L2_REG)))\n",
    "model.add(Dense(1, activation=\"sigmoid\"))\n",
    "\n",
    "# Build the model by specifying the input shape\n",
    "model.build(input_shape=(None, max_sequence_length))\n",
    "\n",
    "print(\"Model architecture built!\")\n",
    "print(f\"Total parameters: {model.count_params():,}\")"
   ]
  },
  {
   "cell_type": "code",
   "execution_count": 21,
   "id": "f8a19caf-c7c0-4e04-b60d-e0ea224f0d02",
   "metadata": {},
   "outputs": [
    {
     "name": "stdout",
     "output_type": "stream",
     "text": [
      "Compiling model...\n",
      "Model compiled successfully!\n",
      "\n",
      "Model Summary:\n"
     ]
    },
    {
     "data": {
      "text/html": [
       "<pre style=\"white-space:pre;overflow-x:auto;line-height:normal;font-family:Menlo,'DejaVu Sans Mono',consolas,'Courier New',monospace\"><span style=\"font-weight: bold\">Model: \"sequential\"</span>\n",
       "</pre>\n"
      ],
      "text/plain": [
       "\u001b[1mModel: \"sequential\"\u001b[0m\n"
      ]
     },
     "metadata": {},
     "output_type": "display_data"
    },
    {
     "data": {
      "text/html": [
       "<pre style=\"white-space:pre;overflow-x:auto;line-height:normal;font-family:Menlo,'DejaVu Sans Mono',consolas,'Courier New',monospace\">┏━━━━━━━━━━━━━━━━━━━━━━━━━━━━━━━━━┳━━━━━━━━━━━━━━━━━━━━━━━━┳━━━━━━━━━━━━━━━┓\n",
       "┃<span style=\"font-weight: bold\"> Layer (type)                    </span>┃<span style=\"font-weight: bold\"> Output Shape           </span>┃<span style=\"font-weight: bold\">       Param # </span>┃\n",
       "┡━━━━━━━━━━━━━━━━━━━━━━━━━━━━━━━━━╇━━━━━━━━━━━━━━━━━━━━━━━━╇━━━━━━━━━━━━━━━┩\n",
       "│ embedding (<span style=\"color: #0087ff; text-decoration-color: #0087ff\">Embedding</span>)           │ (<span style=\"color: #00d7ff; text-decoration-color: #00d7ff\">None</span>, <span style=\"color: #00af00; text-decoration-color: #00af00\">60</span>, <span style=\"color: #00af00; text-decoration-color: #00af00\">100</span>)        │     <span style=\"color: #00af00; text-decoration-color: #00af00\">1,478,600</span> │\n",
       "├─────────────────────────────────┼────────────────────────┼───────────────┤\n",
       "│ lstm (<span style=\"color: #0087ff; text-decoration-color: #0087ff\">LSTM</span>)                     │ (<span style=\"color: #00d7ff; text-decoration-color: #00d7ff\">None</span>, <span style=\"color: #00af00; text-decoration-color: #00af00\">60</span>, <span style=\"color: #00af00; text-decoration-color: #00af00\">256</span>)        │       <span style=\"color: #00af00; text-decoration-color: #00af00\">365,568</span> │\n",
       "├─────────────────────────────────┼────────────────────────┼───────────────┤\n",
       "│ global_max_pooling1d            │ (<span style=\"color: #00d7ff; text-decoration-color: #00d7ff\">None</span>, <span style=\"color: #00af00; text-decoration-color: #00af00\">256</span>)            │             <span style=\"color: #00af00; text-decoration-color: #00af00\">0</span> │\n",
       "│ (<span style=\"color: #0087ff; text-decoration-color: #0087ff\">GlobalMaxPooling1D</span>)            │                        │               │\n",
       "├─────────────────────────────────┼────────────────────────┼───────────────┤\n",
       "│ dropout (<span style=\"color: #0087ff; text-decoration-color: #0087ff\">Dropout</span>)               │ (<span style=\"color: #00d7ff; text-decoration-color: #00d7ff\">None</span>, <span style=\"color: #00af00; text-decoration-color: #00af00\">256</span>)            │             <span style=\"color: #00af00; text-decoration-color: #00af00\">0</span> │\n",
       "├─────────────────────────────────┼────────────────────────┼───────────────┤\n",
       "│ dense (<span style=\"color: #0087ff; text-decoration-color: #0087ff\">Dense</span>)                   │ (<span style=\"color: #00d7ff; text-decoration-color: #00d7ff\">None</span>, <span style=\"color: #00af00; text-decoration-color: #00af00\">64</span>)             │        <span style=\"color: #00af00; text-decoration-color: #00af00\">16,448</span> │\n",
       "├─────────────────────────────────┼────────────────────────┼───────────────┤\n",
       "│ dropout_1 (<span style=\"color: #0087ff; text-decoration-color: #0087ff\">Dropout</span>)             │ (<span style=\"color: #00d7ff; text-decoration-color: #00d7ff\">None</span>, <span style=\"color: #00af00; text-decoration-color: #00af00\">64</span>)             │             <span style=\"color: #00af00; text-decoration-color: #00af00\">0</span> │\n",
       "├─────────────────────────────────┼────────────────────────┼───────────────┤\n",
       "│ dense_1 (<span style=\"color: #0087ff; text-decoration-color: #0087ff\">Dense</span>)                 │ (<span style=\"color: #00d7ff; text-decoration-color: #00d7ff\">None</span>, <span style=\"color: #00af00; text-decoration-color: #00af00\">64</span>)             │         <span style=\"color: #00af00; text-decoration-color: #00af00\">4,160</span> │\n",
       "├─────────────────────────────────┼────────────────────────┼───────────────┤\n",
       "│ dense_2 (<span style=\"color: #0087ff; text-decoration-color: #0087ff\">Dense</span>)                 │ (<span style=\"color: #00d7ff; text-decoration-color: #00d7ff\">None</span>, <span style=\"color: #00af00; text-decoration-color: #00af00\">1</span>)              │            <span style=\"color: #00af00; text-decoration-color: #00af00\">65</span> │\n",
       "└─────────────────────────────────┴────────────────────────┴───────────────┘\n",
       "</pre>\n"
      ],
      "text/plain": [
       "┏━━━━━━━━━━━━━━━━━━━━━━━━━━━━━━━━━┳━━━━━━━━━━━━━━━━━━━━━━━━┳━━━━━━━━━━━━━━━┓\n",
       "┃\u001b[1m \u001b[0m\u001b[1mLayer (type)                   \u001b[0m\u001b[1m \u001b[0m┃\u001b[1m \u001b[0m\u001b[1mOutput Shape          \u001b[0m\u001b[1m \u001b[0m┃\u001b[1m \u001b[0m\u001b[1m      Param #\u001b[0m\u001b[1m \u001b[0m┃\n",
       "┡━━━━━━━━━━━━━━━━━━━━━━━━━━━━━━━━━╇━━━━━━━━━━━━━━━━━━━━━━━━╇━━━━━━━━━━━━━━━┩\n",
       "│ embedding (\u001b[38;5;33mEmbedding\u001b[0m)           │ (\u001b[38;5;45mNone\u001b[0m, \u001b[38;5;34m60\u001b[0m, \u001b[38;5;34m100\u001b[0m)        │     \u001b[38;5;34m1,478,600\u001b[0m │\n",
       "├─────────────────────────────────┼────────────────────────┼───────────────┤\n",
       "│ lstm (\u001b[38;5;33mLSTM\u001b[0m)                     │ (\u001b[38;5;45mNone\u001b[0m, \u001b[38;5;34m60\u001b[0m, \u001b[38;5;34m256\u001b[0m)        │       \u001b[38;5;34m365,568\u001b[0m │\n",
       "├─────────────────────────────────┼────────────────────────┼───────────────┤\n",
       "│ global_max_pooling1d            │ (\u001b[38;5;45mNone\u001b[0m, \u001b[38;5;34m256\u001b[0m)            │             \u001b[38;5;34m0\u001b[0m │\n",
       "│ (\u001b[38;5;33mGlobalMaxPooling1D\u001b[0m)            │                        │               │\n",
       "├─────────────────────────────────┼────────────────────────┼───────────────┤\n",
       "│ dropout (\u001b[38;5;33mDropout\u001b[0m)               │ (\u001b[38;5;45mNone\u001b[0m, \u001b[38;5;34m256\u001b[0m)            │             \u001b[38;5;34m0\u001b[0m │\n",
       "├─────────────────────────────────┼────────────────────────┼───────────────┤\n",
       "│ dense (\u001b[38;5;33mDense\u001b[0m)                   │ (\u001b[38;5;45mNone\u001b[0m, \u001b[38;5;34m64\u001b[0m)             │        \u001b[38;5;34m16,448\u001b[0m │\n",
       "├─────────────────────────────────┼────────────────────────┼───────────────┤\n",
       "│ dropout_1 (\u001b[38;5;33mDropout\u001b[0m)             │ (\u001b[38;5;45mNone\u001b[0m, \u001b[38;5;34m64\u001b[0m)             │             \u001b[38;5;34m0\u001b[0m │\n",
       "├─────────────────────────────────┼────────────────────────┼───────────────┤\n",
       "│ dense_1 (\u001b[38;5;33mDense\u001b[0m)                 │ (\u001b[38;5;45mNone\u001b[0m, \u001b[38;5;34m64\u001b[0m)             │         \u001b[38;5;34m4,160\u001b[0m │\n",
       "├─────────────────────────────────┼────────────────────────┼───────────────┤\n",
       "│ dense_2 (\u001b[38;5;33mDense\u001b[0m)                 │ (\u001b[38;5;45mNone\u001b[0m, \u001b[38;5;34m1\u001b[0m)              │            \u001b[38;5;34m65\u001b[0m │\n",
       "└─────────────────────────────────┴────────────────────────┴───────────────┘\n"
      ]
     },
     "metadata": {},
     "output_type": "display_data"
    },
    {
     "data": {
      "text/html": [
       "<pre style=\"white-space:pre;overflow-x:auto;line-height:normal;font-family:Menlo,'DejaVu Sans Mono',consolas,'Courier New',monospace\"><span style=\"font-weight: bold\"> Total params: </span><span style=\"color: #00af00; text-decoration-color: #00af00\">1,864,841</span> (7.11 MB)\n",
       "</pre>\n"
      ],
      "text/plain": [
       "\u001b[1m Total params: \u001b[0m\u001b[38;5;34m1,864,841\u001b[0m (7.11 MB)\n"
      ]
     },
     "metadata": {},
     "output_type": "display_data"
    },
    {
     "data": {
      "text/html": [
       "<pre style=\"white-space:pre;overflow-x:auto;line-height:normal;font-family:Menlo,'DejaVu Sans Mono',consolas,'Courier New',monospace\"><span style=\"font-weight: bold\"> Trainable params: </span><span style=\"color: #00af00; text-decoration-color: #00af00\">386,241</span> (1.47 MB)\n",
       "</pre>\n"
      ],
      "text/plain": [
       "\u001b[1m Trainable params: \u001b[0m\u001b[38;5;34m386,241\u001b[0m (1.47 MB)\n"
      ]
     },
     "metadata": {},
     "output_type": "display_data"
    },
    {
     "data": {
      "text/html": [
       "<pre style=\"white-space:pre;overflow-x:auto;line-height:normal;font-family:Menlo,'DejaVu Sans Mono',consolas,'Courier New',monospace\"><span style=\"font-weight: bold\"> Non-trainable params: </span><span style=\"color: #00af00; text-decoration-color: #00af00\">1,478,600</span> (5.64 MB)\n",
       "</pre>\n"
      ],
      "text/plain": [
       "\u001b[1m Non-trainable params: \u001b[0m\u001b[38;5;34m1,478,600\u001b[0m (5.64 MB)\n"
      ]
     },
     "metadata": {},
     "output_type": "display_data"
    }
   ],
   "source": [
    "# Compile the model\n",
    "print(\"Compiling model...\")\n",
    "\n",
    "model.compile(\n",
    "    optimizer=Adam(learning_rate=0.0006),\n",
    "    loss='binary_crossentropy',\n",
    "    metrics=[\n",
    "        'accuracy',\n",
    "        tf.keras.metrics.Precision(name='precision'),\n",
    "        tf.keras.metrics.Recall(name='recall'),\n",
    "        tf.keras.metrics.AUC(name='auc'),\n",
    "    ]\n",
    ")\n",
    "\n",
    "print(\"Model compiled successfully!\")\n",
    "\n",
    "# Display model summary\n",
    "print(\"\\nModel Summary:\")\n",
    "model.summary()"
   ]
  },
  {
   "cell_type": "code",
   "execution_count": 22,
   "id": "3a5b3801-30c0-4034-8aae-354d0b93968e",
   "metadata": {},
   "outputs": [
    {
     "name": "stdout",
     "output_type": "stream",
     "text": [
      "Training LSTM model...\n",
      "Class weights: {0: 1.0, 1: 1.6}\n",
      "Epoch 1/10\n",
      "\u001b[1m40/40\u001b[0m \u001b[32m━━━━━━━━━━━━━━━━━━━━\u001b[0m\u001b[37m\u001b[0m \u001b[1m15s\u001b[0m 348ms/step - accuracy: 0.5721 - auc: 0.5261 - loss: 2.3589 - precision: 0.3855 - recall: 0.3718 - val_accuracy: 0.5974 - val_auc: 0.6318 - val_loss: 1.8119 - val_precision: 0.4201 - val_recall: 0.6071 - learning_rate: 6.0000e-04\n",
      "Epoch 2/10\n",
      "\u001b[1m40/40\u001b[0m \u001b[32m━━━━━━━━━━━━━━━━━━━━\u001b[0m\u001b[37m\u001b[0m \u001b[1m14s\u001b[0m 344ms/step - accuracy: 0.5928 - auc: 0.5871 - loss: 1.8658 - precision: 0.4407 - recall: 0.4805 - val_accuracy: 0.5693 - val_auc: 0.6411 - val_loss: 1.4554 - val_precision: 0.4051 - val_recall: 0.6762 - learning_rate: 6.0000e-04\n",
      "Epoch 3/10\n",
      "\u001b[1m40/40\u001b[0m \u001b[32m━━━━━━━━━━━━━━━━━━━━\u001b[0m\u001b[37m\u001b[0m \u001b[1m14s\u001b[0m 360ms/step - accuracy: 0.6115 - auc: 0.6070 - loss: 1.5221 - precision: 0.4608 - recall: 0.4598 - val_accuracy: 0.6573 - val_auc: 0.6466 - val_loss: 1.1491 - val_precision: 0.4733 - val_recall: 0.4214 - learning_rate: 6.0000e-04\n",
      "Epoch 4/10\n",
      "\u001b[1m40/40\u001b[0m \u001b[32m━━━━━━━━━━━━━━━━━━━━\u001b[0m\u001b[37m\u001b[0m \u001b[1m16s\u001b[0m 399ms/step - accuracy: 0.6436 - auc: 0.6440 - loss: 1.2739 - precision: 0.4931 - recall: 0.4536 - val_accuracy: 0.6612 - val_auc: 0.6647 - val_loss: 0.9925 - val_precision: 0.4831 - val_recall: 0.5095 - learning_rate: 6.0000e-04\n",
      "Epoch 5/10\n",
      "\u001b[1m40/40\u001b[0m \u001b[32m━━━━━━━━━━━━━━━━━━━━\u001b[0m\u001b[37m\u001b[0m \u001b[1m15s\u001b[0m 384ms/step - accuracy: 0.6378 - auc: 0.6539 - loss: 1.1172 - precision: 0.4925 - recall: 0.5154 - val_accuracy: 0.6706 - val_auc: 0.6759 - val_loss: 0.8505 - val_precision: 0.4950 - val_recall: 0.3524 - learning_rate: 6.0000e-04\n",
      "Epoch 6/10\n",
      "\u001b[1m40/40\u001b[0m \u001b[32m━━━━━━━━━━━━━━━━━━━━\u001b[0m\u001b[37m\u001b[0m \u001b[1m16s\u001b[0m 406ms/step - accuracy: 0.6428 - auc: 0.6644 - loss: 1.0099 - precision: 0.4999 - recall: 0.5061 - val_accuracy: 0.6550 - val_auc: 0.6791 - val_loss: 0.7887 - val_precision: 0.4759 - val_recall: 0.5405 - learning_rate: 6.0000e-04\n",
      "Epoch 7/10\n",
      "\u001b[1m40/40\u001b[0m \u001b[32m━━━━━━━━━━━━━━━━━━━━\u001b[0m\u001b[37m\u001b[0m \u001b[1m14s\u001b[0m 359ms/step - accuracy: 0.6351 - auc: 0.6588 - loss: 0.9436 - precision: 0.4948 - recall: 0.5647 - val_accuracy: 0.6745 - val_auc: 0.6808 - val_loss: 0.7130 - val_precision: 0.5028 - val_recall: 0.4238 - learning_rate: 6.0000e-04\n",
      "Epoch 8/10\n",
      "\u001b[1m40/40\u001b[0m \u001b[32m━━━━━━━━━━━━━━━━━━━━\u001b[0m\u001b[37m\u001b[0m \u001b[1m15s\u001b[0m 368ms/step - accuracy: 0.6527 - auc: 0.6760 - loss: 0.8916 - precision: 0.5219 - recall: 0.5407 - val_accuracy: 0.6355 - val_auc: 0.6830 - val_loss: 0.7195 - val_precision: 0.4589 - val_recall: 0.6381 - learning_rate: 6.0000e-04\n",
      "Epoch 9/10\n",
      "\u001b[1m40/40\u001b[0m \u001b[32m━━━━━━━━━━━━━━━━━━━━\u001b[0m\u001b[37m\u001b[0m \u001b[1m15s\u001b[0m 366ms/step - accuracy: 0.6556 - auc: 0.6976 - loss: 0.8406 - precision: 0.5160 - recall: 0.5964 - val_accuracy: 0.6589 - val_auc: 0.6891 - val_loss: 0.6715 - val_precision: 0.4801 - val_recall: 0.5167 - learning_rate: 6.0000e-04\n",
      "Epoch 10/10\n",
      "\u001b[1m40/40\u001b[0m \u001b[32m━━━━━━━━━━━━━━━━━━━━\u001b[0m\u001b[37m\u001b[0m \u001b[1m14s\u001b[0m 352ms/step - accuracy: 0.6671 - auc: 0.7034 - loss: 0.8141 - precision: 0.5282 - recall: 0.5832 - val_accuracy: 0.6371 - val_auc: 0.6868 - val_loss: 0.6704 - val_precision: 0.4595 - val_recall: 0.6214 - learning_rate: 6.0000e-04\n",
      "Training completed!\n"
     ]
    }
   ],
   "source": [
    "# Train the LSTM model\n",
    "print(\"Training LSTM model...\")\n",
    "\n",
    "print(f\"Class weights: {CLASS_WEIGHT_DICT}\")\n",
    "\n",
    "\n",
    "# Callbacks\n",
    "early_stopping = EarlyStopping(monitor='val_loss', patience=3, restore_best_weights=True)\n",
    "lr_scheduler = ReduceLROnPlateau(monitor='val_loss', factor=0.5, patience=2, min_lr=1e-6)\n",
    "\n",
    "# Start training\n",
    "lstm_history = model.fit(\n",
    "    train_data, train_labels,\n",
    "    validation_data=(val_data, val_labels),\n",
    "    batch_size=BATCH_SIZE,\n",
    "    epochs=EPOCHS,\n",
    "    class_weight=CLASS_WEIGHT_DICT,\n",
    "    callbacks=[early_stopping, lr_scheduler]\n",
    ")\n",
    "\n",
    "print(\"Training completed!\")"
   ]
  },
  {
   "cell_type": "code",
   "execution_count": 23,
   "id": "30f757a8-811d-416d-94aa-82030f0a919b",
   "metadata": {},
   "outputs": [
    {
     "name": "stdout",
     "output_type": "stream",
     "text": [
      "Evaluating LSTM model on test set...\n",
      "\u001b[1m40/40\u001b[0m \u001b[32m━━━━━━━━━━━━━━━━━━━━\u001b[0m\u001b[37m\u001b[0m \u001b[1m3s\u001b[0m 67ms/step - accuracy: 0.6241 - auc: 0.6728 - loss: 0.6839 - precision: 0.4720 - recall: 0.6244\n",
      "\n",
      "=== FINAL TEST RESULTS ===\n",
      "LSTM Test Accuracy: 0.6204\n",
      "LSTM Test Precision: 0.4732\n",
      "LSTM Test Recall: 0.6303\n",
      "LSTM Test AUC: 0.6657\n",
      "LSTM Test F1 Score: 0.5406\n"
     ]
    }
   ],
   "source": [
    "# Evaluate the model on test set\n",
    "print(\"Evaluating LSTM model on test set...\")\n",
    "test_metrics = model.evaluate(test_data, test_labels, return_dict=True)\n",
    "\n",
    "# Print all metrics\n",
    "print(f\"\\n=== FINAL TEST RESULTS ===\")\n",
    "print(f\"LSTM Test Accuracy: {test_metrics['accuracy']:.4f}\")\n",
    "print(f\"LSTM Test Precision: {test_metrics['precision']:.4f}\")\n",
    "print(f\"LSTM Test Recall: {test_metrics['recall']:.4f}\")\n",
    "print(f\"LSTM Test AUC: {test_metrics['auc']:.4f}\")\n",
    "\n",
    "# Calculate F1 score\n",
    "precision = test_metrics['precision']\n",
    "recall = test_metrics['recall']\n",
    "f1_score = 2 * (precision * recall) / (precision + recall)\n",
    "print(f\"LSTM Test F1 Score: {f1_score:.4f}\")"
   ]
  },
  {
   "cell_type": "code",
   "execution_count": 24,
   "id": "28d410c1-4c2e-4c74-a789-0c327a7bc27f",
   "metadata": {},
   "outputs": [
    {
     "name": "stdout",
     "output_type": "stream",
     "text": [
      "Making predictions on test set...\n",
      "Predictions shape: (1267, 1)\n",
      "Binary predictions shape: (1267,)\n",
      "True labels shape: (1267,)\n",
      "\n",
      "Sample predictions (first 10):\n",
      "Sample 1: Prob=0.353, Pred=0, True=1 ✗\n",
      "Sample 2: Prob=0.620, Pred=1, True=0 ✗\n",
      "Sample 3: Prob=0.220, Pred=0, True=0 ✓\n",
      "Sample 4: Prob=0.127, Pred=0, True=0 ✓\n",
      "Sample 5: Prob=0.211, Pred=0, True=0 ✓\n",
      "Sample 6: Prob=0.613, Pred=1, True=1 ✓\n",
      "Sample 7: Prob=0.665, Pred=1, True=1 ✓\n",
      "Sample 8: Prob=0.173, Pred=0, True=0 ✓\n",
      "Sample 9: Prob=0.270, Pred=0, True=1 ✗\n",
      "Sample 10: Prob=0.400, Pred=0, True=0 ✓\n"
     ]
    }
   ],
   "source": [
    "# Make predictions on test data\n",
    "print(\"Making predictions on test set...\")\n",
    "y_pred = model.predict(test_data, batch_size=BATCH_SIZE, verbose=0)\n",
    "\n",
    "# Convert predictions to binary classes\n",
    "y_pred_classes = (y_pred > 0.5).astype(int).flatten()\n",
    "y_true_classes = test_labels\n",
    "\n",
    "print(f\"Predictions shape: {y_pred.shape}\")\n",
    "print(f\"Binary predictions shape: {y_pred_classes.shape}\")\n",
    "print(f\"True labels shape: {y_true_classes.shape}\")\n",
    "\n",
    "# Show sample predictions\n",
    "print(f\"\\nSample predictions (first 10):\")\n",
    "for i in range(10):\n",
    "    prob = y_pred[i][0]\n",
    "    pred_class = y_pred_classes[i]\n",
    "    true_class = y_true_classes[i]\n",
    "    correct = \"✓\" if pred_class == true_class else \"✗\"\n",
    "    print(f\"Sample {i+1}: Prob={prob:.3f}, Pred={pred_class}, True={true_class} {correct}\")"
   ]
  },
  {
   "cell_type": "code",
   "execution_count": 25,
   "id": "f94be10c-a480-4df6-bb2c-30d9f7677263",
   "metadata": {},
   "outputs": [
    {
     "data": {
      "image/png": "[encoded data removed]",
      "text/plain": [
       "<Figure size 1200x500 with 4 Axes>"
      ]
     },
     "metadata": {},
     "output_type": "display_data"
    },
    {
     "name": "stdout",
     "output_type": "stream",
     "text": [
      "Confusion Matrix Statistics:\n",
      "True Negatives: 503\n",
      "False Positives: 315\n",
      "False Negatives: 166\n",
      "True Positives: 283\n"
     ]
    }
   ],
   "source": [
    "# Create and plot confusion matrix\n",
    "class_names = ['false', 'true']\n",
    "cm = confusion_matrix(y_true_classes, y_pred_classes)\n",
    "\n",
    "# Create figure with subplots\n",
    "plt.figure(figsize=(12, 5))\n",
    "\n",
    "# Regular confusion matrix\n",
    "plt.subplot(1, 2, 1)\n",
    "sns.heatmap(cm, annot=True, fmt='d', cmap='Blues', \n",
    "           xticklabels=class_names, yticklabels=class_names)\n",
    "plt.xlabel('Predicted Label')\n",
    "plt.ylabel('True Label')\n",
    "plt.title('LSTM Confusion Matrix')\n",
    "\n",
    "# Add text annotations with percentages\n",
    "total = cm.sum()\n",
    "for i in range(len(class_names)):\n",
    "    for j in range(len(class_names)):\n",
    "        plt.text(j+0.5, i+0.7, f'({cm[i,j]/total*100:.1f}%)', \n",
    "                ha='center', va='center', fontsize=10, color='red')\n",
    "\n",
    "# Normalized confusion matrix\n",
    "cm_normalized = cm.astype('float') / cm.sum(axis=1)[:, np.newaxis]\n",
    "plt.subplot(1, 2, 2)\n",
    "sns.heatmap(cm_normalized, annot=True, fmt='.2f', cmap='Blues', \n",
    "           xticklabels=class_names, yticklabels=class_names)\n",
    "plt.xlabel('Predicted Label')\n",
    "plt.ylabel('True Label')\n",
    "plt.title('LSTM Normalized Confusion Matrix')\n",
    "\n",
    "plt.tight_layout()\n",
    "plt.show()\n",
    "\n",
    "# Print confusion matrix statistics\n",
    "print(\"Confusion Matrix Statistics:\")\n",
    "print(f\"True Negatives: {cm[0,0]}\")\n",
    "print(f\"False Positives: {cm[0,1]}\")\n",
    "print(f\"False Negatives: {cm[1,0]}\")\n",
    "print(f\"True Positives: {cm[1,1]}\")"
   ]
  },
  {
   "cell_type": "code",
   "execution_count": 39,
   "id": "9890a1cb-1aca-448d-ada8-813ce2d27c4f",
   "metadata": {},
   "outputs": [
    {
     "data": {
      "image/png": "[encoded data removed]",
      "text/plain": [
       "<Figure size 1500x500 with 3 Axes>"
      ]
     },
     "metadata": {},
     "output_type": "display_data"
    },
    {
     "name": "stdout",
     "output_type": "stream",
     "text": [
      "\n",
      "LSTM Best epoch: 7\n",
      "LSTM Best validation accuracy: 0.6745\n",
      "LSTM Training accuracy at best epoch: 0.6437\n"
     ]
    }
   ],
   "source": [
    "# Plot LSTM training history\n",
    "plt.figure(figsize=(15, 5))\n",
    "\n",
    "# Accuracy plot\n",
    "plt.subplot(1, 3, 1)\n",
    "plt.plot(lstm_history.history['accuracy'], label='Training Accuracy', linewidth=2)\n",
    "plt.plot(lstm_history.history['val_accuracy'], label='Validation Accuracy', linewidth=2)\n",
    "plt.title('LSTM Model Accuracy')\n",
    "plt.xlabel('Epoch')\n",
    "plt.ylabel('Accuracy')\n",
    "plt.legend()\n",
    "plt.grid(True, alpha=0.3)\n",
    "\n",
    "# Loss plot\n",
    "plt.subplot(1, 3, 2)\n",
    "plt.plot(lstm_history.history['loss'], label='Training Loss', linewidth=2)\n",
    "plt.plot(lstm_history.history['val_loss'], label='Validation Loss', linewidth=2)\n",
    "plt.title('LSTM Model Loss')\n",
    "plt.xlabel('Epoch')\n",
    "plt.ylabel('Loss')\n",
    "plt.legend()\n",
    "plt.grid(True, alpha=0.3)\n",
    "\n",
    "# AUC plot\n",
    "plt.subplot(1, 3, 3)\n",
    "plt.plot(lstm_history.history['auc'], label='Training AUC', linewidth=2)\n",
    "plt.plot(lstm_history.history['val_auc'], label='Validation AUC', linewidth=2)\n",
    "plt.title('LSTM Model AUC')\n",
    "plt.xlabel('Epoch')\n",
    "plt.ylabel('AUC')\n",
    "plt.legend()\n",
    "plt.grid(True, alpha=0.3)\n",
    "\n",
    "plt.tight_layout()\n",
    "plt.show()\n",
    "\n",
    "# Print best epoch information\n",
    "lstm_best_epoch = np.argmax(lstm_history.history['val_accuracy'])\n",
    "print(f\"\\nLSTM Best epoch: {lstm_best_epoch + 1}\")\n",
    "print(f\"LSTM Best validation accuracy: {lstm_history.history['val_accuracy'][lstm_best_epoch]:.4f}\")\n",
    "print(f\"LSTM Training accuracy at best epoch: {lstm_history.history['accuracy'][lstm_best_epoch]:.4f}\")\n"
   ]
  },
  {
   "cell_type": "code",
   "execution_count": 27,
   "id": "bc7b55f6-1caf-490d-8649-5ceec7f5eb8d",
   "metadata": {},
   "outputs": [
    {
     "name": "stdout",
     "output_type": "stream",
     "text": [
      "=== DETAILED PERFORMANCE ANALYSIS ===\n",
      "\n",
      "Classification Report:\n",
      "              precision    recall  f1-score   support\n",
      "\n",
      "       False     0.7519    0.6149    0.6765       818\n",
      "        True     0.4732    0.6303    0.5406       449\n",
      "\n",
      "    accuracy                         0.6204      1267\n",
      "   macro avg     0.6126    0.6226    0.6086      1267\n",
      "weighted avg     0.6531    0.6204    0.6284      1267\n",
      "\n"
     ]
    },
    {
     "data": {
      "image/png": "[encoded data removed]",
      "text/plain": [
       "<Figure size 1200x500 with 2 Axes>"
      ]
     },
     "metadata": {},
     "output_type": "display_data"
    }
   ],
   "source": [
    "# Detailed performance analysis\n",
    "print(\"=== DETAILED PERFORMANCE ANALYSIS ===\")\n",
    "\n",
    "# Per-class performance\n",
    "from sklearn.metrics import classification_report\n",
    "print(\"\\nClassification Report:\")\n",
    "print(classification_report(y_true_classes, y_pred_classes, \n",
    "                          target_names=['False', 'True'], digits=4))\n",
    "\n",
    "# ROC Curve\n",
    "from sklearn.metrics import roc_curve, auc\n",
    "fpr, tpr, thresholds = roc_curve(y_true_classes, y_pred.flatten())\n",
    "roc_auc = auc(fpr, tpr)\n",
    "\n",
    "plt.figure(figsize=(12, 5))\n",
    "\n",
    "# ROC Curve\n",
    "plt.subplot(1, 2, 1)\n",
    "plt.plot(fpr, tpr, color='darkorange', lw=2, label=f'ROC curve (AUC = {roc_auc:.4f})')\n",
    "plt.plot([0, 1], [0, 1], color='navy', lw=2, linestyle='--', label='Random')\n",
    "plt.xlim([0.0, 1.0])\n",
    "plt.ylim([0.0, 1.05])\n",
    "plt.xlabel('False Positive Rate')\n",
    "plt.ylabel('True Positive Rate')\n",
    "plt.title('ROC Curve')\n",
    "plt.legend(loc=\"lower right\")\n",
    "plt.grid(True, alpha=0.3)\n",
    "\n",
    "# Precision-Recall Curve\n",
    "from sklearn.metrics import precision_recall_curve, average_precision_score\n",
    "precision_vals, recall_vals, _ = precision_recall_curve(y_true_classes, y_pred.flatten())\n",
    "avg_precision = average_precision_score(y_true_classes, y_pred.flatten())\n",
    "\n",
    "plt.subplot(1, 2, 2)\n",
    "plt.plot(recall_vals, precision_vals, color='blue', lw=2, \n",
    "         label=f'PR curve (AP = {avg_precision:.4f})')\n",
    "plt.xlabel('Recall')\n",
    "plt.ylabel('Precision')\n",
    "plt.title('Precision-Recall Curve')\n",
    "plt.legend(loc=\"lower left\")\n",
    "plt.grid(True, alpha=0.3)\n",
    "\n",
    "plt.tight_layout()\n",
    "plt.show()"
   ]
  },
  {
   "cell_type": "code",
   "execution_count": 40,
   "id": "3512799e-7a5a-4124-9718-81ea2855ab56",
   "metadata": {},
   "outputs": [
    {
     "name": "stdout",
     "output_type": "stream",
     "text": [
      "Threshold Analysis:\n",
      "Threshold | Accuracy | Precision | Recall | F1-Score\n",
      "-------------------------------------------------------\n",
      "   0.1    |  0.3536  |  0.3539   |  0.9978  |  0.5224\n",
      "   0.2    |  0.4112  |  0.3736   |  0.9777  |  0.5406\n",
      "   0.3    |  0.4736  |  0.3931   |  0.8931  |  0.5459\n",
      "   0.4    |  0.5525  |  0.4272   |  0.7706  |  0.5496\n",
      "   0.5    |  0.6204  |  0.4732   |  0.6303  |  0.5406\n",
      "   0.6    |  0.6511  |  0.5094   |  0.4209  |  0.4610\n",
      "   0.7    |  0.6709  |  0.6067   |  0.2027  |  0.3038\n",
      "   0.8    |  0.6511  |  0.8889   |  0.0178  |  0.0349\n",
      "   0.9    |  0.6456  |  0.0000   |  0.0000  |  0.0000\n"
     ]
    }
   ],
   "source": [
    "# Analyze different prediction thresholds\n",
    "thresholds = np.arange(0.1, 1.0, 0.1)\n",
    "threshold_results = []\n",
    "\n",
    "print(\"Threshold Analysis:\")\n",
    "print(\"Threshold | Accuracy | Precision | Recall | F1-Score\")\n",
    "print(\"-\" * 55)\n",
    "\n",
    "for threshold in thresholds:\n",
    "    pred_thresh = (y_pred > threshold).astype(int).flatten()\n",
    "    \n",
    "    from sklearn.metrics import accuracy_score, precision_score, recall_score, f1_score\n",
    "    acc = accuracy_score(y_true_classes, pred_thresh)\n",
    "    prec = precision_score(y_true_classes, pred_thresh, zero_division=0)\n",
    "    rec = recall_score(y_true_classes, pred_thresh, zero_division=0)\n",
    "    f1 = f1_score(y_true_classes, pred_thresh, zero_division=0)\n",
    "    \n",
    "    threshold_results.append([threshold, acc, prec, rec, f1])\n",
    "    print(f\"   {threshold:.1f}    |  {acc:.4f}  |  {prec:.4f}   |  {rec:.4f}  |  {f1:.4f}\")\n",
    "\n",
    "# Find best threshold based on F1 score\n",
    "threshold_results = np.array(threshold_results)\n",
    "best_threshold_idx = np.argmax(threshold_results[:, 4])  # F1 score column\n",
    "best_threshold = threshold_results[best_threshold_idx, 0]\n",
    "best_f1 = threshold_results[best_threshold_idx, 4]\n",
    "\n",
    "# print(f\"\\nBest threshold: {best_threshold:.1f} (F1-Score: {best_f1:.4f})\")"
   ]
  },
  {
   "cell_type": "code",
   "execution_count": 29,
   "id": "af63fb81-0361-48fc-be15-00a7171cdafc",
   "metadata": {},
   "outputs": [
    {
     "name": "stdout",
     "output_type": "stream",
     "text": [
      "Saving model...\n",
      "Model saved to: lstm_model.keras\n",
      "Training history saved to: lstm_training_history.pkl\n",
      "Model results saved to: lstm_model_results.pkl\n"
     ]
    }
   ],
   "source": [
    "# Save the trained model\n",
    "print(\"Saving model...\")\n",
    "model.save(MODEL_SAVE_PATH)\n",
    "print(f\"Model saved to: {MODEL_SAVE_PATH}\")\n",
    "\n",
    "# Save training history\n",
    "with open('lstm_training_history.pkl', 'wb') as f:\n",
    "    pickle.dump(lstm_history.history, f)\n",
    "print(\"Training history saved to: lstm_training_history.pkl\")\n",
    "\n",
    "# Save predictions and results\n",
    "results_dict = {\n",
    "    'test_metrics': test_metrics,\n",
    "    'y_pred': y_pred,\n",
    "    'y_pred_classes': y_pred_classes,\n",
    "    'y_true_classes': y_true_classes,\n",
    "    'confusion_matrix': cm,\n",
    "    'best_threshold': best_threshold,\n",
    "    'threshold_results': threshold_results,\n",
    "    'model_params': {\n",
    "        'lstm_units': LSTM_UNITS,\n",
    "        'dense_units_1': DENSE_UNITS_1,\n",
    "        'dense_units_2': DENSE_UNITS_2,\n",
    "        'dropout_rate': DROPOUT_RATE,\n",
    "        'batch_size': BATCH_SIZE,\n",
    "        'epochs': EPOCHS,\n",
    "        'class_weights': CLASS_WEIGHT_DICT\n",
    "    }\n",
    "}\n",
    "\n",
    "with open('lstm_model_results.pkl', 'wb') as f:\n",
    "    pickle.dump(results_dict, f)\n",
    "print(\"Model results saved to: lstm_model_results.pkl\")"
   ]
  },
  {
   "cell_type": "code",
   "execution_count": 30,
   "id": "f857bf32-50d8-4879-9417-75e42013c21f",
   "metadata": {},
   "outputs": [
    {
     "name": "stdout",
     "output_type": "stream",
     "text": [
      "============================================================\n",
      "             FINAL MODEL SUMMARY\n",
      "============================================================\n",
      "Model Architecture:\n",
      "  - Embedding Layer: 14786 words, 100D\n",
      "  - LSTM Layer: 256 units\n",
      "  - Dense Layers: 64 -> 64 -> 1\n",
      "  - Dropout Rate: 0.5\n",
      "  - Total Parameters: 1,864,841\n",
      "\n",
      "Training Configuration:\n",
      "  - Epochs: 10\n",
      "  - Batch Size: 256\n",
      "  - Class Weights: {0: 1.0, 1: 1.6}\n",
      "\n",
      "Final Test Performance:\n",
      "  - Accuracy: 0.6204\n",
      "  - Precision: 0.4732\n",
      "  - Recall: 0.6303\n",
      "  - F1-Score: 0.5406\n",
      "  - AUC: 0.6657\n",
      "\n",
      "Optimal Threshold: 0.4\n",
      "\n",
      "Files Saved:\n",
      "  - Model: lstm_model.keras\n",
      "  - Training History: lstm_training_history.pkl\n",
      "  - Results: lstm_model_results.pkl\n",
      "  - Preprocessed Data: preprocessed_data.pkl\n",
      "============================================================\n"
     ]
    }
   ],
   "source": [
    "# Display final summary\n",
    "print(\"=\" * 60)\n",
    "print(\"             FINAL MODEL SUMMARY\")\n",
    "print(\"=\" * 60)\n",
    "\n",
    "print(f\"Model Architecture:\")\n",
    "print(f\"  - Embedding Layer: {num_words} words, {embedding_dim}D\")\n",
    "print(f\"  - LSTM Layer: {LSTM_UNITS} units\")\n",
    "print(f\"  - Dense Layers: {DENSE_UNITS_1} -> {DENSE_UNITS_2} -> 1\")\n",
    "print(f\"  - Dropout Rate: {DROPOUT_RATE}\")\n",
    "print(f\"  - Total Parameters: {model.count_params():,}\")\n",
    "\n",
    "print(f\"\\nTraining Configuration:\")\n",
    "print(f\"  - Epochs: {EPOCHS}\")\n",
    "print(f\"  - Batch Size: {BATCH_SIZE}\")\n",
    "print(f\"  - Class Weights: {CLASS_WEIGHT_DICT}\")\n",
    "\n",
    "# Recalculate F1 score to avoid variable name conflict\n",
    "precision = test_metrics['precision']\n",
    "recall = test_metrics['recall']\n",
    "calculated_f1_score = 2 * (precision * recall) / (precision + recall)\n",
    "\n",
    "print(f\"\\nFinal Test Performance:\")\n",
    "print(f\"  - Accuracy: {test_metrics['accuracy']:.4f}\")\n",
    "print(f\"  - Precision: {test_metrics['precision']:.4f}\")\n",
    "print(f\"  - Recall: {test_metrics['recall']:.4f}\")\n",
    "print(f\"  - F1-Score: {calculated_f1_score:.4f}\")\n",
    "print(f\"  - AUC: {test_metrics['auc']:.4f}\")\n",
    "\n",
    "print(f\"\\nOptimal Threshold: {best_threshold:.1f}\")\n",
    "\n",
    "print(f\"\\nFiles Saved:\")\n",
    "print(f\"  - Model: {MODEL_SAVE_PATH}\")\n",
    "print(f\"  - Training History: lstm_training_history.pkl\")\n",
    "print(f\"  - Results: lstm_model_results.pkl\")\n",
    "print(f\"  - Preprocessed Data: preprocessed_data.pkl\")\n",
    "\n",
    "print(\"=\" * 60)"
   ]
  },
  {
   "cell_type": "code",
   "execution_count": null,
   "id": "63e39432-ae58-480e-982e-a4aee5f9d02f",
   "metadata": {},
   "outputs": [],
   "source": []
  },
  {
   "cell_type": "markdown",
   "id": "6a300914-494d-4274-9f1a-9732a74e4fcc",
   "metadata": {},
   "source": [
    "## Inference "
   ]
  },
  {
   "cell_type": "code",
   "execution_count": 150,
   "id": "98e1422e-5cf2-493b-9ed1-38f7ecf59c45",
   "metadata": {},
   "outputs": [],
   "source": [
    "import pandas as pd\n",
    "import numpy as np\n",
    "import tensorflow as tf\n",
    "from tensorflow.keras.preprocessing.text import Tokenizer\n",
    "from tensorflow.keras.preprocessing.sequence import pad_sequences\n",
    "import nltk\n",
    "from nltk.corpus import stopwords\n",
    "from nltk.tokenize import word_tokenize\n",
    "from nltk.stem import WordNetLemmatizer\n",
    "import string\n",
    "import pickle\n",
    "import random\n",
    "import matplotlib.pyplot as plt\n",
    "import seaborn as sns\n",
    "from sklearn.metrics import confusion_matrix\n",
    "import numpy as np\n",
    "\n",
    "# Configuration parameters (matching the original notebook)\n",
    "MAX_WORDS = 20000\n",
    "MAX_SEQUENCE_LENGTH = 60\n",
    "EMBEDDING_DIM = 100\n",
    "MODEL_SAVE_PATH = \"lstm_model.keras\"\n",
    "BEST_THRESHOLD = 0.5\n",
    "\n",
    "# Download necessary NLTK resources (commented out as in original)\n",
    "# nltk.download('punkt', quiet=True)\n",
    "# nltk.download('stopwords', quiet=True)\n",
    "# nltk.download('wordnet', quiet=True)"
   ]
  },
  {
   "cell_type": "code",
   "execution_count": 151,
   "id": "a7d0d8e9-3019-49cc-9c33-16855d857752",
   "metadata": {},
   "outputs": [],
   "source": [
    "def preprocess_text(text):\n",
    "    \"\"\"Preprocess individual text (same as in notebook)\"\"\"\n",
    "    # Tokenization\n",
    "    tokens = word_tokenize(text)\n",
    "    \n",
    "    # Lowercasing\n",
    "    tokens = [word.lower() for word in tokens]\n",
    "    \n",
    "    # Remove punctuation\n",
    "    tokens = [word for word in tokens if word not in string.punctuation]\n",
    "    \n",
    "    # Remove stop words\n",
    "    stop_words = set(stopwords.words('english'))\n",
    "    tokens = [word for word in tokens if word not in stop_words]\n",
    "    \n",
    "    # Lemmatization\n",
    "    lemmatizer = WordNetLemmatizer()\n",
    "    tokens = [lemmatizer.lemmatize(word) for word in tokens]\n",
    "    \n",
    "    # Join tokens back into a single string\n",
    "    cleaned_text = ' '.join(tokens)\n",
    "    \n",
    "    return cleaned_text\n",
    "\n",
    "def combine_text(df):\n",
    "    \"\"\"Concatenate statement with relevant metadata fields (same as in notebook)\"\"\"\n",
    "    df = df.fillna('')\n",
    "    combined = (\n",
    "        df[2].astype(str) + \" \" +  # statement\n",
    "        df[3].astype(str) + \" \" +  # subject(s)\n",
    "        df[4].astype(str) + \" \" +  # speaker\n",
    "        df[5].astype(str) + \" \" +  # speaker's job title\n",
    "        df[6].astype(str) + \" \" +  # state info\n",
    "        df[7].astype(str) + \" \" +  # party affiliation\n",
    "        df[13].astype(str)         # context (venue/location)\n",
    "    )\n",
    "    return combined.tolist()\n",
    "\n",
    "def replace_labels(label):\n",
    "    \"\"\"Convert multi-class labels to binary classification (same as in notebook)\"\"\"\n",
    "    label = label.lower().replace(\" \", \"-\")\n",
    "    return \"true\" if label in [\"true\", \"mostly-true\"] else \"false\""
   ]
  },
  {
   "cell_type": "code",
   "execution_count": 152,
   "id": "140aab68-9a12-4892-947c-264e9c70e7d8",
   "metadata": {},
   "outputs": [],
   "source": [
    "# Load the test dataset\n",
    "TEST_PATH = \"liar_dataset/test.tsv\"\n",
    "test_df = pd.read_csv(TEST_PATH, sep='\\t', header=None)\n",
    "\n",
    "# Select 10 random statements\n",
    "random_indices = random.sample(range(len(test_df)), 100)\n",
    "sample_df = test_df.iloc[random_indices]\n",
    "\n",
    "# Combine text fields\n",
    "sample_statements = combine_text(sample_df)\n",
    "\n",
    "# Preprocess the statements\n",
    "sample_statements_processed = [preprocess_text(statement) for statement in sample_statements]"
   ]
  },
  {
   "cell_type": "code",
   "execution_count": 153,
   "id": "d74edbe6-3a05-49d0-a528-c57c550b1319",
   "metadata": {},
   "outputs": [],
   "source": [
    "# Load the saved tokenizer\n",
    "with open('preprocessed_data.pkl', 'rb') as f:\n",
    "    preprocessed_data = pickle.load(f)\n",
    "tokenizer = preprocessed_data.get('tokenizer', None)\n",
    "if tokenizer is None:\n",
    "    tokenizer = Tokenizer(num_words=MAX_WORDS)\n",
    "    tokenizer.fit_on_texts(sample_statements_processed)  # Fallback, though ideally use saved tokenizer\n",
    "\n",
    "# Convert to sequences and pad\n",
    "sequences = tokenizer.texts_to_sequences(sample_statements_processed)\n",
    "padded_sequences = pad_sequences(sequences, maxlen=MAX_SEQUENCE_LENGTH, padding='post', truncating='post')"
   ]
  },
  {
   "cell_type": "code",
   "execution_count": 154,
   "id": "9af785b2-cafb-4b01-887d-2d60c2fc29d8",
   "metadata": {},
   "outputs": [
    {
     "name": "stderr",
     "output_type": "stream",
     "text": [
      "/opt/anaconda3/envs/ml/lib/python3.9/site-packages/keras/src/layers/layer.py:965: UserWarning: Layer 'global_max_pooling1d' (of type GlobalMaxPooling1D) was passed an input with a mask attached to it. However, this layer does not support masking and will therefore destroy the mask information. Downstream layers will not see the mask.\n",
      "  warnings.warn(\n"
     ]
    }
   ],
   "source": [
    "# Load the saved model\n",
    "model = tf.keras.models.load_model(MODEL_SAVE_PATH)\n",
    "\n",
    "# Make predictions\n",
    "predictions = model.predict(padded_sequences, verbose=0)\n",
    "predicted_classes = (predictions > BEST_THRESHOLD).astype(int).flatten()\n",
    "\n",
    "# Map labels for true classes\n",
    "true_labels = [replace_labels(label) for label in sample_df[1].tolist()]\n",
    "true_classes = [1 if label == \"true\" else 0 for label in true_labels]"
   ]
  },
  {
   "cell_type": "code",
   "execution_count": 155,
   "id": "d28822a6-f818-4741-b4bb-dce065cebaa0",
   "metadata": {},
   "outputs": [],
   "source": [
    "# Prepare data for DataFrame\n",
    "results = {\n",
    "    'Statement': [statement[:100] + \"...\" if len(statement) > 100 else statement for statement in sample_statements],\n",
    "    'True Label': true_labels,\n",
    "    'Predicted Probability': [f\"{prob:.4f}\" for prob in predictions.flatten()],\n",
    "    'Predicted Class': ['true' if pred == 1 else 'false' for pred in predicted_classes],\n",
    "    'Correct': [true_label == ('true' if pred == 1 else 'false') for true_label, pred in zip(true_labels, predicted_classes)]\n",
    "}\n",
    "\n",
    "# Create DataFrame\n",
    "results_df = pd.DataFrame(results)"
   ]
  },
  {
   "cell_type": "code",
   "execution_count": 156,
   "id": "49fcd756-8203-4e28-a336-a41205c639b7",
   "metadata": {},
   "outputs": [
    {
     "data": {
      "text/html": [
       "<div>\n",
       "<style scoped>\n",
       "    .dataframe tbody tr th:only-of-type {\n",
       "        vertical-align: middle;\n",
       "    }\n",
       "\n",
       "    .dataframe tbody tr th {\n",
       "        vertical-align: top;\n",
       "    }\n",
       "\n",
       "    .dataframe thead th {\n",
       "        text-align: right;\n",
       "    }\n",
       "</style>\n",
       "<table border=\"1\" class=\"dataframe\">\n",
       "  <thead>\n",
       "    <tr style=\"text-align: right;\">\n",
       "      <th></th>\n",
       "      <th>Statement</th>\n",
       "      <th>True Label</th>\n",
       "      <th>Predicted Probability</th>\n",
       "      <th>Predicted Class</th>\n",
       "      <th>Correct</th>\n",
       "    </tr>\n",
       "  </thead>\n",
       "  <tbody>\n",
       "    <tr>\n",
       "      <th>0</th>\n",
       "      <td>Social Security has nothing to do with the fed...</td>\n",
       "      <td>false</td>\n",
       "      <td>0.5197</td>\n",
       "      <td>true</td>\n",
       "      <td>False</td>\n",
       "    </tr>\n",
       "    <tr>\n",
       "      <th>1</th>\n",
       "      <td>What president has the worst record on female ...</td>\n",
       "      <td>false</td>\n",
       "      <td>0.4992</td>\n",
       "      <td>false</td>\n",
       "      <td>True</td>\n",
       "    </tr>\n",
       "    <tr>\n",
       "      <th>2</th>\n",
       "      <td>Says the Obama administration approved a major...</td>\n",
       "      <td>true</td>\n",
       "      <td>0.5400</td>\n",
       "      <td>true</td>\n",
       "      <td>True</td>\n",
       "    </tr>\n",
       "    <tr>\n",
       "      <th>3</th>\n",
       "      <td>Gov. Romney himself, with 28 other Republican ...</td>\n",
       "      <td>false</td>\n",
       "      <td>0.4210</td>\n",
       "      <td>false</td>\n",
       "      <td>True</td>\n",
       "    </tr>\n",
       "    <tr>\n",
       "      <th>4</th>\n",
       "      <td>Says Romney called Russia our No. 1 enemy. for...</td>\n",
       "      <td>true</td>\n",
       "      <td>0.5077</td>\n",
       "      <td>true</td>\n",
       "      <td>True</td>\n",
       "    </tr>\n",
       "    <tr>\n",
       "      <th>...</th>\n",
       "      <td>...</td>\n",
       "      <td>...</td>\n",
       "      <td>...</td>\n",
       "      <td>...</td>\n",
       "      <td>...</td>\n",
       "    </tr>\n",
       "    <tr>\n",
       "      <th>95</th>\n",
       "      <td>The Democrat-led Senate has failed to pass a b...</td>\n",
       "      <td>false</td>\n",
       "      <td>0.6482</td>\n",
       "      <td>true</td>\n",
       "      <td>False</td>\n",
       "    </tr>\n",
       "    <tr>\n",
       "      <th>96</th>\n",
       "      <td>About 106,000 soldiers had a prescription of t...</td>\n",
       "      <td>true</td>\n",
       "      <td>0.4816</td>\n",
       "      <td>false</td>\n",
       "      <td>False</td>\n",
       "    </tr>\n",
       "    <tr>\n",
       "      <th>97</th>\n",
       "      <td>The fact is the Clinton Foundation has got abo...</td>\n",
       "      <td>false</td>\n",
       "      <td>0.3216</td>\n",
       "      <td>false</td>\n",
       "      <td>True</td>\n",
       "    </tr>\n",
       "    <tr>\n",
       "      <th>98</th>\n",
       "      <td>As a result of climate change, ice fishermen i...</td>\n",
       "      <td>true</td>\n",
       "      <td>0.4442</td>\n",
       "      <td>false</td>\n",
       "      <td>False</td>\n",
       "    </tr>\n",
       "    <tr>\n",
       "      <th>99</th>\n",
       "      <td>Says Donald Trump once suggested that he would...</td>\n",
       "      <td>true</td>\n",
       "      <td>0.6541</td>\n",
       "      <td>true</td>\n",
       "      <td>True</td>\n",
       "    </tr>\n",
       "  </tbody>\n",
       "</table>\n",
       "<p>100 rows × 5 columns</p>\n",
       "</div>"
      ],
      "text/plain": [
       "                                            Statement True Label  \\\n",
       "0   Social Security has nothing to do with the fed...      false   \n",
       "1   What president has the worst record on female ...      false   \n",
       "2   Says the Obama administration approved a major...       true   \n",
       "3   Gov. Romney himself, with 28 other Republican ...      false   \n",
       "4   Says Romney called Russia our No. 1 enemy. for...       true   \n",
       "..                                                ...        ...   \n",
       "95  The Democrat-led Senate has failed to pass a b...      false   \n",
       "96  About 106,000 soldiers had a prescription of t...       true   \n",
       "97  The fact is the Clinton Foundation has got abo...      false   \n",
       "98  As a result of climate change, ice fishermen i...       true   \n",
       "99  Says Donald Trump once suggested that he would...       true   \n",
       "\n",
       "   Predicted Probability Predicted Class  Correct  \n",
       "0                 0.5197            true    False  \n",
       "1                 0.4992           false     True  \n",
       "2                 0.5400            true     True  \n",
       "3                 0.4210           false     True  \n",
       "4                 0.5077            true     True  \n",
       "..                   ...             ...      ...  \n",
       "95                0.6482            true    False  \n",
       "96                0.4816           false    False  \n",
       "97                0.3216           false     True  \n",
       "98                0.4442           false    False  \n",
       "99                0.6541            true     True  \n",
       "\n",
       "[100 rows x 5 columns]"
      ]
     },
     "execution_count": 156,
     "metadata": {},
     "output_type": "execute_result"
    }
   ],
   "source": [
    "results_df"
   ]
  },
  {
   "cell_type": "code",
   "execution_count": 146,
   "id": "ded5e951-7c9e-4746-84dc-b473f822374e",
   "metadata": {},
   "outputs": [
    {
     "name": "stdout",
     "output_type": "stream",
     "text": [
      "Accuracy for these 10 samples: 0.6500\n"
     ]
    }
   ],
   "source": [
    "# Calculate accuracy for these 10 samples\n",
    "accuracy = sum(1 for t, p in zip(true_classes, predicted_classes) if t == p) / len(true_classes)\n",
    "print(f\"Accuracy for these 10 samples: {accuracy:.4f}\")"
   ]
  },
  {
   "cell_type": "code",
   "execution_count": 147,
   "id": "9556054c-d455-490f-9b01-2198735626fb",
   "metadata": {},
   "outputs": [
    {
     "data": {
      "image/png": "[encoded data removed]",
      "text/plain": [
       "<Figure size 1200x500 with 4 Axes>"
      ]
     },
     "metadata": {},
     "output_type": "display_data"
    }
   ],
   "source": [
    "true_binary = [1 if label == 'true' else 0 for label in true_labels]\n",
    "pred_binary = predicted_classes.tolist()\n",
    "\n",
    "# Compute confusion matrix\n",
    "cm = confusion_matrix(true_binary, pred_binary)\n",
    "cm_normalized = cm.astype('float') / cm.sum(axis=1)[:, np.newaxis]\n",
    "\n",
    "labels = ['False', 'True']\n",
    "\n",
    "# Plot both side by side\n",
    "fig, axes = plt.subplots(1, 2, figsize=(12, 5))\n",
    "\n",
    "# Raw confusion matrix\n",
    "sns.heatmap(cm, annot=True, fmt='d', cmap='Blues', xticklabels=labels, yticklabels=labels, ax=axes[0])\n",
    "axes[0].set_title('Confusion Matrix (Raw)')\n",
    "axes[0].set_xlabel('Predicted Label')\n",
    "axes[0].set_ylabel('True Label')\n",
    "\n",
    "# Normalized confusion matrix\n",
    "sns.heatmap(cm_normalized, annot=True, fmt='.2f', cmap='Blues', xticklabels=labels, yticklabels=labels, ax=axes[1])\n",
    "axes[1].set_title('Confusion Matrix (Normalized)')\n",
    "axes[1].set_xlabel('Predicted Label')\n",
    "axes[1].set_ylabel('True Label')\n",
    "\n",
    "plt.tight_layout()\n",
    "plt.show()"
   ]
  },
  {
   "cell_type": "code",
   "execution_count": null,
   "id": "cc5d6f55-ec3e-4bfc-9d90-775c242b2736",
   "metadata": {},
   "outputs": [],
   "source": []
  },
  {
   "cell_type": "code",
   "execution_count": 148,
   "id": "bc88d7c8-cc61-4c79-8742-af75cdb03e31",
   "metadata": {},
   "outputs": [],
   "source": [
    "filtered_df = results_df[results_df['Correct'] == False]"
   ]
  },
  {
   "cell_type": "code",
   "execution_count": 149,
   "id": "fe3bfc4f-1b6d-41c9-bd37-8c6b1f318d85",
   "metadata": {},
   "outputs": [
    {
     "data": {
      "text/html": [
       "<div>\n",
       "<style scoped>\n",
       "    .dataframe tbody tr th:only-of-type {\n",
       "        vertical-align: middle;\n",
       "    }\n",
       "\n",
       "    .dataframe tbody tr th {\n",
       "        vertical-align: top;\n",
       "    }\n",
       "\n",
       "    .dataframe thead th {\n",
       "        text-align: right;\n",
       "    }\n",
       "</style>\n",
       "<table border=\"1\" class=\"dataframe\">\n",
       "  <thead>\n",
       "    <tr style=\"text-align: right;\">\n",
       "      <th></th>\n",
       "      <th>Statement</th>\n",
       "      <th>True Label</th>\n",
       "      <th>Predicted Probability</th>\n",
       "      <th>Predicted Class</th>\n",
       "      <th>Correct</th>\n",
       "    </tr>\n",
       "  </thead>\n",
       "  <tbody>\n",
       "    <tr>\n",
       "      <th>1</th>\n",
       "      <td>In a lawsuit between private citizens, a Flori...</td>\n",
       "      <td>true</td>\n",
       "      <td>0.4128</td>\n",
       "      <td>false</td>\n",
       "      <td>False</td>\n",
       "    </tr>\n",
       "    <tr>\n",
       "      <th>4</th>\n",
       "      <td>The United States spends $2.2 billion on free ...</td>\n",
       "      <td>false</td>\n",
       "      <td>0.5863</td>\n",
       "      <td>true</td>\n",
       "      <td>False</td>\n",
       "    </tr>\n",
       "    <tr>\n",
       "      <th>9</th>\n",
       "      <td>The U.S. doesnt make television sets anymore. ...</td>\n",
       "      <td>true</td>\n",
       "      <td>0.1612</td>\n",
       "      <td>false</td>\n",
       "      <td>False</td>\n",
       "    </tr>\n",
       "    <tr>\n",
       "      <th>10</th>\n",
       "      <td>In February, John McCain suggested the Bergdah...</td>\n",
       "      <td>true</td>\n",
       "      <td>0.2421</td>\n",
       "      <td>false</td>\n",
       "      <td>False</td>\n",
       "    </tr>\n",
       "    <tr>\n",
       "      <th>12</th>\n",
       "      <td>The largest tax increase that we have ever had...</td>\n",
       "      <td>false</td>\n",
       "      <td>0.5765</td>\n",
       "      <td>true</td>\n",
       "      <td>False</td>\n",
       "    </tr>\n",
       "    <tr>\n",
       "      <th>17</th>\n",
       "      <td>Miami-Dade County is the No. 1 donor county in...</td>\n",
       "      <td>false</td>\n",
       "      <td>0.6329</td>\n",
       "      <td>true</td>\n",
       "      <td>False</td>\n",
       "    </tr>\n",
       "    <tr>\n",
       "      <th>19</th>\n",
       "      <td>Of the roughly 15 percent of Americans who don...</td>\n",
       "      <td>false</td>\n",
       "      <td>0.6231</td>\n",
       "      <td>true</td>\n",
       "      <td>False</td>\n",
       "    </tr>\n",
       "    <tr>\n",
       "      <th>22</th>\n",
       "      <td>Citizens Property Insurance has over $500 bill...</td>\n",
       "      <td>false</td>\n",
       "      <td>0.5743</td>\n",
       "      <td>true</td>\n",
       "      <td>False</td>\n",
       "    </tr>\n",
       "    <tr>\n",
       "      <th>24</th>\n",
       "      <td>Rick Perry attempted to fast-track unnecessary...</td>\n",
       "      <td>true</td>\n",
       "      <td>0.4066</td>\n",
       "      <td>false</td>\n",
       "      <td>False</td>\n",
       "    </tr>\n",
       "    <tr>\n",
       "      <th>37</th>\n",
       "      <td>A mortgage buyback plan is \"my proposal, it's ...</td>\n",
       "      <td>true</td>\n",
       "      <td>0.4420</td>\n",
       "      <td>false</td>\n",
       "      <td>False</td>\n",
       "    </tr>\n",
       "    <tr>\n",
       "      <th>39</th>\n",
       "      <td>On federal stimulus money for expanding rail s...</td>\n",
       "      <td>true</td>\n",
       "      <td>0.4123</td>\n",
       "      <td>false</td>\n",
       "      <td>False</td>\n",
       "    </tr>\n",
       "    <tr>\n",
       "      <th>44</th>\n",
       "      <td>During the Reagan era, while productivity incr...</td>\n",
       "      <td>true</td>\n",
       "      <td>0.4659</td>\n",
       "      <td>false</td>\n",
       "      <td>False</td>\n",
       "    </tr>\n",
       "    <tr>\n",
       "      <th>47</th>\n",
       "      <td>In 2004, \"20 percent of U.S. households were g...</td>\n",
       "      <td>false</td>\n",
       "      <td>0.5701</td>\n",
       "      <td>true</td>\n",
       "      <td>False</td>\n",
       "    </tr>\n",
       "    <tr>\n",
       "      <th>48</th>\n",
       "      <td>We have 650 people who move to Texas every day...</td>\n",
       "      <td>true</td>\n",
       "      <td>0.4685</td>\n",
       "      <td>false</td>\n",
       "      <td>False</td>\n",
       "    </tr>\n",
       "    <tr>\n",
       "      <th>49</th>\n",
       "      <td>A strong bipartisan majority in the House of R...</td>\n",
       "      <td>false</td>\n",
       "      <td>0.5385</td>\n",
       "      <td>true</td>\n",
       "      <td>False</td>\n",
       "    </tr>\n",
       "    <tr>\n",
       "      <th>50</th>\n",
       "      <td>Republicans tried to block the deficit commiss...</td>\n",
       "      <td>false</td>\n",
       "      <td>0.5511</td>\n",
       "      <td>true</td>\n",
       "      <td>False</td>\n",
       "    </tr>\n",
       "    <tr>\n",
       "      <th>51</th>\n",
       "      <td>Says last year 13 million (health insurance) r...</td>\n",
       "      <td>false</td>\n",
       "      <td>0.5675</td>\n",
       "      <td>true</td>\n",
       "      <td>False</td>\n",
       "    </tr>\n",
       "    <tr>\n",
       "      <th>52</th>\n",
       "      <td>Here in Florida, Ive slashed government by 10 ...</td>\n",
       "      <td>false</td>\n",
       "      <td>0.5929</td>\n",
       "      <td>true</td>\n",
       "      <td>False</td>\n",
       "    </tr>\n",
       "    <tr>\n",
       "      <th>53</th>\n",
       "      <td>McCain \"still thinks it's okay when women don'...</td>\n",
       "      <td>false</td>\n",
       "      <td>0.7018</td>\n",
       "      <td>true</td>\n",
       "      <td>False</td>\n",
       "    </tr>\n",
       "    <tr>\n",
       "      <th>58</th>\n",
       "      <td>Says 315,000 mostly minority Texas students ar...</td>\n",
       "      <td>true</td>\n",
       "      <td>0.4612</td>\n",
       "      <td>false</td>\n",
       "      <td>False</td>\n",
       "    </tr>\n",
       "    <tr>\n",
       "      <th>63</th>\n",
       "      <td>A mailer from the Obama campaign \"accurately i...</td>\n",
       "      <td>false</td>\n",
       "      <td>0.5006</td>\n",
       "      <td>true</td>\n",
       "      <td>False</td>\n",
       "    </tr>\n",
       "    <tr>\n",
       "      <th>69</th>\n",
       "      <td>When people enter the service, theres not a me...</td>\n",
       "      <td>true</td>\n",
       "      <td>0.4376</td>\n",
       "      <td>false</td>\n",
       "      <td>False</td>\n",
       "    </tr>\n",
       "    <tr>\n",
       "      <th>70</th>\n",
       "      <td>There are 60,000 fewer jobs today in this stat...</td>\n",
       "      <td>false</td>\n",
       "      <td>0.5306</td>\n",
       "      <td>true</td>\n",
       "      <td>False</td>\n",
       "    </tr>\n",
       "    <tr>\n",
       "      <th>71</th>\n",
       "      <td>Says Paul Ryan supports banning all abortions,...</td>\n",
       "      <td>false</td>\n",
       "      <td>0.5544</td>\n",
       "      <td>true</td>\n",
       "      <td>False</td>\n",
       "    </tr>\n",
       "    <tr>\n",
       "      <th>73</th>\n",
       "      <td>Says my plan is a property tax cut. state-budg...</td>\n",
       "      <td>false</td>\n",
       "      <td>0.5132</td>\n",
       "      <td>true</td>\n",
       "      <td>False</td>\n",
       "    </tr>\n",
       "    <tr>\n",
       "      <th>76</th>\n",
       "      <td>Unfortunately we have documented instances whe...</td>\n",
       "      <td>false</td>\n",
       "      <td>0.5865</td>\n",
       "      <td>true</td>\n",
       "      <td>False</td>\n",
       "    </tr>\n",
       "    <tr>\n",
       "      <th>78</th>\n",
       "      <td>Virginia ranked near the bottom of the nation ...</td>\n",
       "      <td>false</td>\n",
       "      <td>0.6983</td>\n",
       "      <td>true</td>\n",
       "      <td>False</td>\n",
       "    </tr>\n",
       "    <tr>\n",
       "      <th>82</th>\n",
       "      <td>Says theCongressional Budget Officehas estimat...</td>\n",
       "      <td>true</td>\n",
       "      <td>0.4592</td>\n",
       "      <td>false</td>\n",
       "      <td>False</td>\n",
       "    </tr>\n",
       "    <tr>\n",
       "      <th>85</th>\n",
       "      <td>Says Barack Obama promised he would cut the de...</td>\n",
       "      <td>true</td>\n",
       "      <td>0.2467</td>\n",
       "      <td>false</td>\n",
       "      <td>False</td>\n",
       "    </tr>\n",
       "    <tr>\n",
       "      <th>87</th>\n",
       "      <td>Of the more than 1.3 million temporary mortgag...</td>\n",
       "      <td>false</td>\n",
       "      <td>0.5849</td>\n",
       "      <td>true</td>\n",
       "      <td>False</td>\n",
       "    </tr>\n",
       "    <tr>\n",
       "      <th>90</th>\n",
       "      <td>Says McCain \"supported George Bush's policies ...</td>\n",
       "      <td>false</td>\n",
       "      <td>0.6097</td>\n",
       "      <td>true</td>\n",
       "      <td>False</td>\n",
       "    </tr>\n",
       "    <tr>\n",
       "      <th>94</th>\n",
       "      <td>Says opponent U.S. Rep. Gwen Moore is Wisconsi...</td>\n",
       "      <td>true</td>\n",
       "      <td>0.2685</td>\n",
       "      <td>false</td>\n",
       "      <td>False</td>\n",
       "    </tr>\n",
       "    <tr>\n",
       "      <th>95</th>\n",
       "      <td>The Germans, the French, countries that oppose...</td>\n",
       "      <td>false</td>\n",
       "      <td>0.5253</td>\n",
       "      <td>true</td>\n",
       "      <td>False</td>\n",
       "    </tr>\n",
       "    <tr>\n",
       "      <th>96</th>\n",
       "      <td>Quite frankly, it was during the Bush years of...</td>\n",
       "      <td>true</td>\n",
       "      <td>0.4171</td>\n",
       "      <td>false</td>\n",
       "      <td>False</td>\n",
       "    </tr>\n",
       "    <tr>\n",
       "      <th>98</th>\n",
       "      <td>A Texas law requires every high school to have...</td>\n",
       "      <td>false</td>\n",
       "      <td>0.5553</td>\n",
       "      <td>true</td>\n",
       "      <td>False</td>\n",
       "    </tr>\n",
       "  </tbody>\n",
       "</table>\n",
       "</div>"
      ],
      "text/plain": [
       "                                            Statement True Label  \\\n",
       "1   In a lawsuit between private citizens, a Flori...       true   \n",
       "4   The United States spends $2.2 billion on free ...      false   \n",
       "9   The U.S. doesnt make television sets anymore. ...       true   \n",
       "10  In February, John McCain suggested the Bergdah...       true   \n",
       "12  The largest tax increase that we have ever had...      false   \n",
       "17  Miami-Dade County is the No. 1 donor county in...      false   \n",
       "19  Of the roughly 15 percent of Americans who don...      false   \n",
       "22  Citizens Property Insurance has over $500 bill...      false   \n",
       "24  Rick Perry attempted to fast-track unnecessary...       true   \n",
       "37  A mortgage buyback plan is \"my proposal, it's ...       true   \n",
       "39  On federal stimulus money for expanding rail s...       true   \n",
       "44  During the Reagan era, while productivity incr...       true   \n",
       "47  In 2004, \"20 percent of U.S. households were g...      false   \n",
       "48  We have 650 people who move to Texas every day...       true   \n",
       "49  A strong bipartisan majority in the House of R...      false   \n",
       "50  Republicans tried to block the deficit commiss...      false   \n",
       "51  Says last year 13 million (health insurance) r...      false   \n",
       "52  Here in Florida, Ive slashed government by 10 ...      false   \n",
       "53  McCain \"still thinks it's okay when women don'...      false   \n",
       "58  Says 315,000 mostly minority Texas students ar...       true   \n",
       "63  A mailer from the Obama campaign \"accurately i...      false   \n",
       "69  When people enter the service, theres not a me...       true   \n",
       "70  There are 60,000 fewer jobs today in this stat...      false   \n",
       "71  Says Paul Ryan supports banning all abortions,...      false   \n",
       "73  Says my plan is a property tax cut. state-budg...      false   \n",
       "76  Unfortunately we have documented instances whe...      false   \n",
       "78  Virginia ranked near the bottom of the nation ...      false   \n",
       "82  Says theCongressional Budget Officehas estimat...       true   \n",
       "85  Says Barack Obama promised he would cut the de...       true   \n",
       "87  Of the more than 1.3 million temporary mortgag...      false   \n",
       "90  Says McCain \"supported George Bush's policies ...      false   \n",
       "94  Says opponent U.S. Rep. Gwen Moore is Wisconsi...       true   \n",
       "95  The Germans, the French, countries that oppose...      false   \n",
       "96  Quite frankly, it was during the Bush years of...       true   \n",
       "98  A Texas law requires every high school to have...      false   \n",
       "\n",
       "   Predicted Probability Predicted Class  Correct  \n",
       "1                 0.4128           false    False  \n",
       "4                 0.5863            true    False  \n",
       "9                 0.1612           false    False  \n",
       "10                0.2421           false    False  \n",
       "12                0.5765            true    False  \n",
       "17                0.6329            true    False  \n",
       "19                0.6231            true    False  \n",
       "22                0.5743            true    False  \n",
       "24                0.4066           false    False  \n",
       "37                0.4420           false    False  \n",
       "39                0.4123           false    False  \n",
       "44                0.4659           false    False  \n",
       "47                0.5701            true    False  \n",
       "48                0.4685           false    False  \n",
       "49                0.5385            true    False  \n",
       "50                0.5511            true    False  \n",
       "51                0.5675            true    False  \n",
       "52                0.5929            true    False  \n",
       "53                0.7018            true    False  \n",
       "58                0.4612           false    False  \n",
       "63                0.5006            true    False  \n",
       "69                0.4376           false    False  \n",
       "70                0.5306            true    False  \n",
       "71                0.5544            true    False  \n",
       "73                0.5132            true    False  \n",
       "76                0.5865            true    False  \n",
       "78                0.6983            true    False  \n",
       "82                0.4592           false    False  \n",
       "85                0.2467           false    False  \n",
       "87                0.5849            true    False  \n",
       "90                0.6097            true    False  \n",
       "94                0.2685           false    False  \n",
       "95                0.5253            true    False  \n",
       "96                0.4171           false    False  \n",
       "98                0.5553            true    False  "
      ]
     },
     "execution_count": 149,
     "metadata": {},
     "output_type": "execute_result"
    }
   ],
   "source": [
    "filtered_df"
   ]
  },
  {
   "cell_type": "code",
   "execution_count": null,
   "id": "f166fee3-fbd0-4035-beda-879d2dd663f5",
   "metadata": {},
   "outputs": [],
   "source": []
  },
  {
   "cell_type": "code",
   "execution_count": null,
   "id": "b116257b-a1c8-4005-909d-052d72838121",
   "metadata": {},
   "outputs": [],
   "source": []
  }
 ],
 "metadata": {
  "kernelspec": {
   "display_name": "Python 3 (ipykernel)",
   "language": "python",
   "name": "python3"
  },
  "language_info": {
   "codemirror_mode": {
    "name": "ipython",
    "version": 3
   },
   "file_extension": ".py",
   "mimetype": "text/x-python",
   "name": "python",
   "nbconvert_exporter": "python",
   "pygments_lexer": "ipython3",
   "version": "3.9.18"
  }
 },
 "nbformat": 4,
 "nbformat_minor": 5
}
